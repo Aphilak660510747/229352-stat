{
  "cells": [
    {
      "cell_type": "markdown",
      "metadata": {
        "id": "view-in-github",
        "colab_type": "text"
      },
      "source": [
        "<a href=\"https://colab.research.google.com/github/Aphilak660510747/229352-stat/blob/main/Lab02.ipynb\" target=\"_parent\"><img src=\"https://colab.research.google.com/assets/colab-badge.svg\" alt=\"Open In Colab\"/></a>"
      ]
    },
    {
      "cell_type": "markdown",
      "metadata": {
        "id": "X33DsAOeokmy"
      },
      "source": [
        "### Statistical Learning for Data Science 2 (229352)\n",
        "#### Instructor: Donlapark Ponnoprat\n",
        "\n",
        "#### [Course website](https://donlapark.pages.dev/229352/)\n",
        "\n",
        "## Lab #2"
      ]
    },
    {
      "cell_type": "code",
      "source": [
        "import pandas as pd\n",
        "import numpy as np\n",
        "import matplotlib.pyplot as plt\n",
        "import seaborn as sns\n",
        "\n",
        "from sklearn.model_selection import train_test_split\n",
        "from sklearn.preprocessing import StandardScaler, OneHotEncoder, OrdinalEncoder\n",
        "from sklearn.impute import SimpleImputer\n",
        "from sklearn.linear_model import LogisticRegression\n",
        "from sklearn.metrics import classification_report, confusion_matrix, accuracy_score, roc_auc_score, roc_curve\n",
        "\n",
        "# For Fashion-MNIST\n",
        "from tensorflow.keras.datasets import fashion_mnist\n",
        "\n",
        "# For 20 Newsgroups\n",
        "from sklearn.datasets import fetch_20newsgroups\n",
        "from sklearn.feature_extraction.text import TfidfVectorizer\n",
        "\n",
        "pd.set_option('display.max_columns', None)\n",
        "pd.set_option('display.width', 1000)"
      ],
      "metadata": {
        "id": "JOnoRSjo8dd5"
      },
      "execution_count": 1,
      "outputs": []
    },
    {
      "cell_type": "markdown",
      "source": [
        "## Part 1: Marketing Campaign Dataset - Manual Data Preprocessing & Logistic Regression"
      ],
      "metadata": {
        "id": "exuopfRD8mHt"
      }
    },
    {
      "cell_type": "markdown",
      "source": [
        "### Load the Marketing Campaign Dataset ([Data Information](https://archive.ics.uci.edu/dataset/222/bank+marketing))\n",
        "\n",
        "The data is related with direct marketing campaigns of a Portuguese banking institution. The marketing campaigns were based on phone calls. Often, more than one contact to the same client was required, in order to access if the product (bank term deposit) would be (`'yes'`) or not (`'no'`) subscribed."
      ],
      "metadata": {
        "id": "FdWsJYcVBf1Q"
      }
    },
    {
      "cell_type": "code",
      "source": [
        "# URL for the raw Bank Marketing dataset CSV\n",
        "bank_url = 'https://raw.githubusercontent.com/donlap/ds352-labs/main/bank.csv'\n",
        "\n",
        "# Load the dataset\n",
        "# - sep=';' is crucial as it's semicolon-separated\n",
        "# - na_values=['unknown'] converts 'unknown' strings to NaN\n",
        "df = pd.read_csv(bank_url, sep=';', na_values=['unknown'])\n",
        "df = df.drop([\"emp.var.rate\", \"cons.price.idx\", \"cons.conf.idx\",\t\"euribor3m\", \"nr.employed\"], axis=1)\n",
        "print(\"Shape of the dataset:\", df.shape)\n",
        "df.head()"
      ],
      "metadata": {
        "id": "CJ9ujPUBBcTK",
        "colab": {
          "base_uri": "https://localhost:8080/",
          "height": 244
        },
        "outputId": "3e759f9a-1513-49c0-d8cf-c2799395b47a"
      },
      "execution_count": 2,
      "outputs": [
        {
          "output_type": "stream",
          "name": "stdout",
          "text": [
            "Shape of the dataset: (41188, 16)\n"
          ]
        },
        {
          "output_type": "execute_result",
          "data": {
            "text/plain": [
              "   age        job  marital    education default housing loan    contact month day_of_week  duration  campaign  pdays  previous     poutcome   y\n",
              "0   56  housemaid  married     basic.4y      no      no   no  telephone   may         mon       261         1    999         0  nonexistent  no\n",
              "1   57   services  married  high.school     NaN      no   no  telephone   may         mon       149         1    999         0  nonexistent  no\n",
              "2   37   services  married  high.school      no     yes   no  telephone   may         mon       226         1    999         0  nonexistent  no\n",
              "3   40     admin.  married     basic.6y      no      no   no  telephone   may         mon       151         1    999         0  nonexistent  no\n",
              "4   56   services  married  high.school      no      no  yes  telephone   may         mon       307         1    999         0  nonexistent  no"
            ],
            "text/html": [
              "\n",
              "  <div id=\"df-c84c70ad-3601-4442-aa8f-5a18aa6f3a4e\" class=\"colab-df-container\">\n",
              "    <div>\n",
              "<style scoped>\n",
              "    .dataframe tbody tr th:only-of-type {\n",
              "        vertical-align: middle;\n",
              "    }\n",
              "\n",
              "    .dataframe tbody tr th {\n",
              "        vertical-align: top;\n",
              "    }\n",
              "\n",
              "    .dataframe thead th {\n",
              "        text-align: right;\n",
              "    }\n",
              "</style>\n",
              "<table border=\"1\" class=\"dataframe\">\n",
              "  <thead>\n",
              "    <tr style=\"text-align: right;\">\n",
              "      <th></th>\n",
              "      <th>age</th>\n",
              "      <th>job</th>\n",
              "      <th>marital</th>\n",
              "      <th>education</th>\n",
              "      <th>default</th>\n",
              "      <th>housing</th>\n",
              "      <th>loan</th>\n",
              "      <th>contact</th>\n",
              "      <th>month</th>\n",
              "      <th>day_of_week</th>\n",
              "      <th>duration</th>\n",
              "      <th>campaign</th>\n",
              "      <th>pdays</th>\n",
              "      <th>previous</th>\n",
              "      <th>poutcome</th>\n",
              "      <th>y</th>\n",
              "    </tr>\n",
              "  </thead>\n",
              "  <tbody>\n",
              "    <tr>\n",
              "      <th>0</th>\n",
              "      <td>56</td>\n",
              "      <td>housemaid</td>\n",
              "      <td>married</td>\n",
              "      <td>basic.4y</td>\n",
              "      <td>no</td>\n",
              "      <td>no</td>\n",
              "      <td>no</td>\n",
              "      <td>telephone</td>\n",
              "      <td>may</td>\n",
              "      <td>mon</td>\n",
              "      <td>261</td>\n",
              "      <td>1</td>\n",
              "      <td>999</td>\n",
              "      <td>0</td>\n",
              "      <td>nonexistent</td>\n",
              "      <td>no</td>\n",
              "    </tr>\n",
              "    <tr>\n",
              "      <th>1</th>\n",
              "      <td>57</td>\n",
              "      <td>services</td>\n",
              "      <td>married</td>\n",
              "      <td>high.school</td>\n",
              "      <td>NaN</td>\n",
              "      <td>no</td>\n",
              "      <td>no</td>\n",
              "      <td>telephone</td>\n",
              "      <td>may</td>\n",
              "      <td>mon</td>\n",
              "      <td>149</td>\n",
              "      <td>1</td>\n",
              "      <td>999</td>\n",
              "      <td>0</td>\n",
              "      <td>nonexistent</td>\n",
              "      <td>no</td>\n",
              "    </tr>\n",
              "    <tr>\n",
              "      <th>2</th>\n",
              "      <td>37</td>\n",
              "      <td>services</td>\n",
              "      <td>married</td>\n",
              "      <td>high.school</td>\n",
              "      <td>no</td>\n",
              "      <td>yes</td>\n",
              "      <td>no</td>\n",
              "      <td>telephone</td>\n",
              "      <td>may</td>\n",
              "      <td>mon</td>\n",
              "      <td>226</td>\n",
              "      <td>1</td>\n",
              "      <td>999</td>\n",
              "      <td>0</td>\n",
              "      <td>nonexistent</td>\n",
              "      <td>no</td>\n",
              "    </tr>\n",
              "    <tr>\n",
              "      <th>3</th>\n",
              "      <td>40</td>\n",
              "      <td>admin.</td>\n",
              "      <td>married</td>\n",
              "      <td>basic.6y</td>\n",
              "      <td>no</td>\n",
              "      <td>no</td>\n",
              "      <td>no</td>\n",
              "      <td>telephone</td>\n",
              "      <td>may</td>\n",
              "      <td>mon</td>\n",
              "      <td>151</td>\n",
              "      <td>1</td>\n",
              "      <td>999</td>\n",
              "      <td>0</td>\n",
              "      <td>nonexistent</td>\n",
              "      <td>no</td>\n",
              "    </tr>\n",
              "    <tr>\n",
              "      <th>4</th>\n",
              "      <td>56</td>\n",
              "      <td>services</td>\n",
              "      <td>married</td>\n",
              "      <td>high.school</td>\n",
              "      <td>no</td>\n",
              "      <td>no</td>\n",
              "      <td>yes</td>\n",
              "      <td>telephone</td>\n",
              "      <td>may</td>\n",
              "      <td>mon</td>\n",
              "      <td>307</td>\n",
              "      <td>1</td>\n",
              "      <td>999</td>\n",
              "      <td>0</td>\n",
              "      <td>nonexistent</td>\n",
              "      <td>no</td>\n",
              "    </tr>\n",
              "  </tbody>\n",
              "</table>\n",
              "</div>\n",
              "    <div class=\"colab-df-buttons\">\n",
              "\n",
              "  <div class=\"colab-df-container\">\n",
              "    <button class=\"colab-df-convert\" onclick=\"convertToInteractive('df-c84c70ad-3601-4442-aa8f-5a18aa6f3a4e')\"\n",
              "            title=\"Convert this dataframe to an interactive table.\"\n",
              "            style=\"display:none;\">\n",
              "\n",
              "  <svg xmlns=\"http://www.w3.org/2000/svg\" height=\"24px\" viewBox=\"0 -960 960 960\">\n",
              "    <path d=\"M120-120v-720h720v720H120Zm60-500h600v-160H180v160Zm220 220h160v-160H400v160Zm0 220h160v-160H400v160ZM180-400h160v-160H180v160Zm440 0h160v-160H620v160ZM180-180h160v-160H180v160Zm440 0h160v-160H620v160Z\"/>\n",
              "  </svg>\n",
              "    </button>\n",
              "\n",
              "  <style>\n",
              "    .colab-df-container {\n",
              "      display:flex;\n",
              "      gap: 12px;\n",
              "    }\n",
              "\n",
              "    .colab-df-convert {\n",
              "      background-color: #E8F0FE;\n",
              "      border: none;\n",
              "      border-radius: 50%;\n",
              "      cursor: pointer;\n",
              "      display: none;\n",
              "      fill: #1967D2;\n",
              "      height: 32px;\n",
              "      padding: 0 0 0 0;\n",
              "      width: 32px;\n",
              "    }\n",
              "\n",
              "    .colab-df-convert:hover {\n",
              "      background-color: #E2EBFA;\n",
              "      box-shadow: 0px 1px 2px rgba(60, 64, 67, 0.3), 0px 1px 3px 1px rgba(60, 64, 67, 0.15);\n",
              "      fill: #174EA6;\n",
              "    }\n",
              "\n",
              "    .colab-df-buttons div {\n",
              "      margin-bottom: 4px;\n",
              "    }\n",
              "\n",
              "    [theme=dark] .colab-df-convert {\n",
              "      background-color: #3B4455;\n",
              "      fill: #D2E3FC;\n",
              "    }\n",
              "\n",
              "    [theme=dark] .colab-df-convert:hover {\n",
              "      background-color: #434B5C;\n",
              "      box-shadow: 0px 1px 3px 1px rgba(0, 0, 0, 0.15);\n",
              "      filter: drop-shadow(0px 1px 2px rgba(0, 0, 0, 0.3));\n",
              "      fill: #FFFFFF;\n",
              "    }\n",
              "  </style>\n",
              "\n",
              "    <script>\n",
              "      const buttonEl =\n",
              "        document.querySelector('#df-c84c70ad-3601-4442-aa8f-5a18aa6f3a4e button.colab-df-convert');\n",
              "      buttonEl.style.display =\n",
              "        google.colab.kernel.accessAllowed ? 'block' : 'none';\n",
              "\n",
              "      async function convertToInteractive(key) {\n",
              "        const element = document.querySelector('#df-c84c70ad-3601-4442-aa8f-5a18aa6f3a4e');\n",
              "        const dataTable =\n",
              "          await google.colab.kernel.invokeFunction('convertToInteractive',\n",
              "                                                    [key], {});\n",
              "        if (!dataTable) return;\n",
              "\n",
              "        const docLinkHtml = 'Like what you see? Visit the ' +\n",
              "          '<a target=\"_blank\" href=https://colab.research.google.com/notebooks/data_table.ipynb>data table notebook</a>'\n",
              "          + ' to learn more about interactive tables.';\n",
              "        element.innerHTML = '';\n",
              "        dataTable['output_type'] = 'display_data';\n",
              "        await google.colab.output.renderOutput(dataTable, element);\n",
              "        const docLink = document.createElement('div');\n",
              "        docLink.innerHTML = docLinkHtml;\n",
              "        element.appendChild(docLink);\n",
              "      }\n",
              "    </script>\n",
              "  </div>\n",
              "\n",
              "\n",
              "    <div id=\"df-7395685e-e78f-4be0-a1cc-34abcee42534\">\n",
              "      <button class=\"colab-df-quickchart\" onclick=\"quickchart('df-7395685e-e78f-4be0-a1cc-34abcee42534')\"\n",
              "                title=\"Suggest charts\"\n",
              "                style=\"display:none;\">\n",
              "\n",
              "<svg xmlns=\"http://www.w3.org/2000/svg\" height=\"24px\"viewBox=\"0 0 24 24\"\n",
              "     width=\"24px\">\n",
              "    <g>\n",
              "        <path d=\"M19 3H5c-1.1 0-2 .9-2 2v14c0 1.1.9 2 2 2h14c1.1 0 2-.9 2-2V5c0-1.1-.9-2-2-2zM9 17H7v-7h2v7zm4 0h-2V7h2v10zm4 0h-2v-4h2v4z\"/>\n",
              "    </g>\n",
              "</svg>\n",
              "      </button>\n",
              "\n",
              "<style>\n",
              "  .colab-df-quickchart {\n",
              "      --bg-color: #E8F0FE;\n",
              "      --fill-color: #1967D2;\n",
              "      --hover-bg-color: #E2EBFA;\n",
              "      --hover-fill-color: #174EA6;\n",
              "      --disabled-fill-color: #AAA;\n",
              "      --disabled-bg-color: #DDD;\n",
              "  }\n",
              "\n",
              "  [theme=dark] .colab-df-quickchart {\n",
              "      --bg-color: #3B4455;\n",
              "      --fill-color: #D2E3FC;\n",
              "      --hover-bg-color: #434B5C;\n",
              "      --hover-fill-color: #FFFFFF;\n",
              "      --disabled-bg-color: #3B4455;\n",
              "      --disabled-fill-color: #666;\n",
              "  }\n",
              "\n",
              "  .colab-df-quickchart {\n",
              "    background-color: var(--bg-color);\n",
              "    border: none;\n",
              "    border-radius: 50%;\n",
              "    cursor: pointer;\n",
              "    display: none;\n",
              "    fill: var(--fill-color);\n",
              "    height: 32px;\n",
              "    padding: 0;\n",
              "    width: 32px;\n",
              "  }\n",
              "\n",
              "  .colab-df-quickchart:hover {\n",
              "    background-color: var(--hover-bg-color);\n",
              "    box-shadow: 0 1px 2px rgba(60, 64, 67, 0.3), 0 1px 3px 1px rgba(60, 64, 67, 0.15);\n",
              "    fill: var(--button-hover-fill-color);\n",
              "  }\n",
              "\n",
              "  .colab-df-quickchart-complete:disabled,\n",
              "  .colab-df-quickchart-complete:disabled:hover {\n",
              "    background-color: var(--disabled-bg-color);\n",
              "    fill: var(--disabled-fill-color);\n",
              "    box-shadow: none;\n",
              "  }\n",
              "\n",
              "  .colab-df-spinner {\n",
              "    border: 2px solid var(--fill-color);\n",
              "    border-color: transparent;\n",
              "    border-bottom-color: var(--fill-color);\n",
              "    animation:\n",
              "      spin 1s steps(1) infinite;\n",
              "  }\n",
              "\n",
              "  @keyframes spin {\n",
              "    0% {\n",
              "      border-color: transparent;\n",
              "      border-bottom-color: var(--fill-color);\n",
              "      border-left-color: var(--fill-color);\n",
              "    }\n",
              "    20% {\n",
              "      border-color: transparent;\n",
              "      border-left-color: var(--fill-color);\n",
              "      border-top-color: var(--fill-color);\n",
              "    }\n",
              "    30% {\n",
              "      border-color: transparent;\n",
              "      border-left-color: var(--fill-color);\n",
              "      border-top-color: var(--fill-color);\n",
              "      border-right-color: var(--fill-color);\n",
              "    }\n",
              "    40% {\n",
              "      border-color: transparent;\n",
              "      border-right-color: var(--fill-color);\n",
              "      border-top-color: var(--fill-color);\n",
              "    }\n",
              "    60% {\n",
              "      border-color: transparent;\n",
              "      border-right-color: var(--fill-color);\n",
              "    }\n",
              "    80% {\n",
              "      border-color: transparent;\n",
              "      border-right-color: var(--fill-color);\n",
              "      border-bottom-color: var(--fill-color);\n",
              "    }\n",
              "    90% {\n",
              "      border-color: transparent;\n",
              "      border-bottom-color: var(--fill-color);\n",
              "    }\n",
              "  }\n",
              "</style>\n",
              "\n",
              "      <script>\n",
              "        async function quickchart(key) {\n",
              "          const quickchartButtonEl =\n",
              "            document.querySelector('#' + key + ' button');\n",
              "          quickchartButtonEl.disabled = true;  // To prevent multiple clicks.\n",
              "          quickchartButtonEl.classList.add('colab-df-spinner');\n",
              "          try {\n",
              "            const charts = await google.colab.kernel.invokeFunction(\n",
              "                'suggestCharts', [key], {});\n",
              "          } catch (error) {\n",
              "            console.error('Error during call to suggestCharts:', error);\n",
              "          }\n",
              "          quickchartButtonEl.classList.remove('colab-df-spinner');\n",
              "          quickchartButtonEl.classList.add('colab-df-quickchart-complete');\n",
              "        }\n",
              "        (() => {\n",
              "          let quickchartButtonEl =\n",
              "            document.querySelector('#df-7395685e-e78f-4be0-a1cc-34abcee42534 button');\n",
              "          quickchartButtonEl.style.display =\n",
              "            google.colab.kernel.accessAllowed ? 'block' : 'none';\n",
              "        })();\n",
              "      </script>\n",
              "    </div>\n",
              "\n",
              "    </div>\n",
              "  </div>\n"
            ],
            "application/vnd.google.colaboratory.intrinsic+json": {
              "type": "dataframe",
              "variable_name": "df",
              "summary": "{\n  \"name\": \"df\",\n  \"rows\": 41188,\n  \"fields\": [\n    {\n      \"column\": \"age\",\n      \"properties\": {\n        \"dtype\": \"number\",\n        \"std\": 10,\n        \"min\": 17,\n        \"max\": 98,\n        \"num_unique_values\": 78,\n        \"samples\": [\n          36,\n          56,\n          28\n        ],\n        \"semantic_type\": \"\",\n        \"description\": \"\"\n      }\n    },\n    {\n      \"column\": \"job\",\n      \"properties\": {\n        \"dtype\": \"category\",\n        \"num_unique_values\": 11,\n        \"samples\": [\n          \"retired\",\n          \"housemaid\",\n          \"entrepreneur\"\n        ],\n        \"semantic_type\": \"\",\n        \"description\": \"\"\n      }\n    },\n    {\n      \"column\": \"marital\",\n      \"properties\": {\n        \"dtype\": \"category\",\n        \"num_unique_values\": 3,\n        \"samples\": [\n          \"married\",\n          \"single\",\n          \"divorced\"\n        ],\n        \"semantic_type\": \"\",\n        \"description\": \"\"\n      }\n    },\n    {\n      \"column\": \"education\",\n      \"properties\": {\n        \"dtype\": \"category\",\n        \"num_unique_values\": 7,\n        \"samples\": [\n          \"basic.4y\",\n          \"high.school\",\n          \"university.degree\"\n        ],\n        \"semantic_type\": \"\",\n        \"description\": \"\"\n      }\n    },\n    {\n      \"column\": \"default\",\n      \"properties\": {\n        \"dtype\": \"category\",\n        \"num_unique_values\": 2,\n        \"samples\": [\n          \"yes\",\n          \"no\"\n        ],\n        \"semantic_type\": \"\",\n        \"description\": \"\"\n      }\n    },\n    {\n      \"column\": \"housing\",\n      \"properties\": {\n        \"dtype\": \"category\",\n        \"num_unique_values\": 2,\n        \"samples\": [\n          \"yes\",\n          \"no\"\n        ],\n        \"semantic_type\": \"\",\n        \"description\": \"\"\n      }\n    },\n    {\n      \"column\": \"loan\",\n      \"properties\": {\n        \"dtype\": \"category\",\n        \"num_unique_values\": 2,\n        \"samples\": [\n          \"yes\",\n          \"no\"\n        ],\n        \"semantic_type\": \"\",\n        \"description\": \"\"\n      }\n    },\n    {\n      \"column\": \"contact\",\n      \"properties\": {\n        \"dtype\": \"category\",\n        \"num_unique_values\": 2,\n        \"samples\": [\n          \"cellular\",\n          \"telephone\"\n        ],\n        \"semantic_type\": \"\",\n        \"description\": \"\"\n      }\n    },\n    {\n      \"column\": \"month\",\n      \"properties\": {\n        \"dtype\": \"category\",\n        \"num_unique_values\": 10,\n        \"samples\": [\n          \"apr\",\n          \"jun\"\n        ],\n        \"semantic_type\": \"\",\n        \"description\": \"\"\n      }\n    },\n    {\n      \"column\": \"day_of_week\",\n      \"properties\": {\n        \"dtype\": \"category\",\n        \"num_unique_values\": 5,\n        \"samples\": [\n          \"tue\",\n          \"fri\"\n        ],\n        \"semantic_type\": \"\",\n        \"description\": \"\"\n      }\n    },\n    {\n      \"column\": \"duration\",\n      \"properties\": {\n        \"dtype\": \"number\",\n        \"std\": 259,\n        \"min\": 0,\n        \"max\": 4918,\n        \"num_unique_values\": 1544,\n        \"samples\": [\n          1805,\n          335\n        ],\n        \"semantic_type\": \"\",\n        \"description\": \"\"\n      }\n    },\n    {\n      \"column\": \"campaign\",\n      \"properties\": {\n        \"dtype\": \"number\",\n        \"std\": 2,\n        \"min\": 1,\n        \"max\": 56,\n        \"num_unique_values\": 42,\n        \"samples\": [\n          35,\n          19\n        ],\n        \"semantic_type\": \"\",\n        \"description\": \"\"\n      }\n    },\n    {\n      \"column\": \"pdays\",\n      \"properties\": {\n        \"dtype\": \"number\",\n        \"std\": 186,\n        \"min\": 0,\n        \"max\": 999,\n        \"num_unique_values\": 27,\n        \"samples\": [\n          7,\n          12\n        ],\n        \"semantic_type\": \"\",\n        \"description\": \"\"\n      }\n    },\n    {\n      \"column\": \"previous\",\n      \"properties\": {\n        \"dtype\": \"number\",\n        \"std\": 0,\n        \"min\": 0,\n        \"max\": 7,\n        \"num_unique_values\": 8,\n        \"samples\": [\n          1,\n          5\n        ],\n        \"semantic_type\": \"\",\n        \"description\": \"\"\n      }\n    },\n    {\n      \"column\": \"poutcome\",\n      \"properties\": {\n        \"dtype\": \"category\",\n        \"num_unique_values\": 3,\n        \"samples\": [\n          \"nonexistent\",\n          \"failure\"\n        ],\n        \"semantic_type\": \"\",\n        \"description\": \"\"\n      }\n    },\n    {\n      \"column\": \"y\",\n      \"properties\": {\n        \"dtype\": \"category\",\n        \"num_unique_values\": 2,\n        \"samples\": [\n          \"yes\",\n          \"no\"\n        ],\n        \"semantic_type\": \"\",\n        \"description\": \"\"\n      }\n    }\n  ]\n}"
            }
          },
          "metadata": {},
          "execution_count": 2
        }
      ]
    },
    {
      "cell_type": "markdown",
      "source": [
        "### Data Exploration"
      ],
      "metadata": {
        "id": "x4invEyyBRDI"
      }
    },
    {
      "cell_type": "code",
      "source": [
        "# Check for missing values\n",
        "print(\"--- Missing Values Count ---\")\n",
        "print(df.isnull().sum())"
      ],
      "metadata": {
        "id": "u6wANpgzBQoK",
        "colab": {
          "base_uri": "https://localhost:8080/"
        },
        "outputId": "b7c5d297-0b22-436f-e5bf-0d25f0134416"
      },
      "execution_count": 3,
      "outputs": [
        {
          "output_type": "stream",
          "name": "stdout",
          "text": [
            "--- Missing Values Count ---\n",
            "age               0\n",
            "job             330\n",
            "marital          80\n",
            "education      1731\n",
            "default        8597\n",
            "housing         990\n",
            "loan            990\n",
            "contact           0\n",
            "month             0\n",
            "day_of_week       0\n",
            "duration          0\n",
            "campaign          0\n",
            "pdays             0\n",
            "previous          0\n",
            "poutcome          0\n",
            "y                 0\n",
            "dtype: int64\n"
          ]
        }
      ]
    },
    {
      "cell_type": "code",
      "source": [
        "# Check unique values and counts for categorical columns\n",
        "print(\"--- Unique Values for Categorical Columns ---\")\n",
        "for col in df.select_dtypes(include='object').columns:\n",
        "    print(f\"\\n'{col}' unique values:\")\n",
        "    print(df[col].value_counts(dropna=False)) # Include NaN counts"
      ],
      "metadata": {
        "id": "1ack00iLnuCy",
        "colab": {
          "base_uri": "https://localhost:8080/"
        },
        "outputId": "f4043464-18a7-45cf-9a8c-90982a197290"
      },
      "execution_count": 4,
      "outputs": [
        {
          "output_type": "stream",
          "name": "stdout",
          "text": [
            "--- Unique Values for Categorical Columns ---\n",
            "\n",
            "'job' unique values:\n",
            "job\n",
            "admin.           10422\n",
            "blue-collar       9254\n",
            "technician        6743\n",
            "services          3969\n",
            "management        2924\n",
            "retired           1720\n",
            "entrepreneur      1456\n",
            "self-employed     1421\n",
            "housemaid         1060\n",
            "unemployed        1014\n",
            "student            875\n",
            "NaN                330\n",
            "Name: count, dtype: int64\n",
            "\n",
            "'marital' unique values:\n",
            "marital\n",
            "married     24928\n",
            "single      11568\n",
            "divorced     4612\n",
            "NaN            80\n",
            "Name: count, dtype: int64\n",
            "\n",
            "'education' unique values:\n",
            "education\n",
            "university.degree      12168\n",
            "high.school             9515\n",
            "basic.9y                6045\n",
            "professional.course     5243\n",
            "basic.4y                4176\n",
            "basic.6y                2292\n",
            "NaN                     1731\n",
            "illiterate                18\n",
            "Name: count, dtype: int64\n",
            "\n",
            "'default' unique values:\n",
            "default\n",
            "no     32588\n",
            "NaN     8597\n",
            "yes        3\n",
            "Name: count, dtype: int64\n",
            "\n",
            "'housing' unique values:\n",
            "housing\n",
            "yes    21576\n",
            "no     18622\n",
            "NaN      990\n",
            "Name: count, dtype: int64\n",
            "\n",
            "'loan' unique values:\n",
            "loan\n",
            "no     33950\n",
            "yes     6248\n",
            "NaN      990\n",
            "Name: count, dtype: int64\n",
            "\n",
            "'contact' unique values:\n",
            "contact\n",
            "cellular     26144\n",
            "telephone    15044\n",
            "Name: count, dtype: int64\n",
            "\n",
            "'month' unique values:\n",
            "month\n",
            "may    13769\n",
            "jul     7174\n",
            "aug     6178\n",
            "jun     5318\n",
            "nov     4101\n",
            "apr     2632\n",
            "oct      718\n",
            "sep      570\n",
            "mar      546\n",
            "dec      182\n",
            "Name: count, dtype: int64\n",
            "\n",
            "'day_of_week' unique values:\n",
            "day_of_week\n",
            "thu    8623\n",
            "mon    8514\n",
            "wed    8134\n",
            "tue    8090\n",
            "fri    7827\n",
            "Name: count, dtype: int64\n",
            "\n",
            "'poutcome' unique values:\n",
            "poutcome\n",
            "nonexistent    35563\n",
            "failure         4252\n",
            "success         1373\n",
            "Name: count, dtype: int64\n",
            "\n",
            "'y' unique values:\n",
            "y\n",
            "no     36548\n",
            "yes     4640\n",
            "Name: count, dtype: int64\n"
          ]
        }
      ]
    },
    {
      "cell_type": "markdown",
      "source": [
        "### Data Preprocessing"
      ],
      "metadata": {
        "id": "iCEtO_EWDTzC"
      }
    },
    {
      "cell_type": "code",
      "source": [
        "# Map target variable 'y' to 0 (no) and 1 (yes)\n",
        "df['y'] = df['y'].map({'no': 0, 'yes': 1})\n",
        "\n",
        "# Split the data into features (X) and target (y\n",
        "X = df.drop('y', axis=1)\n",
        "y = df['y']\n",
        "# Calculate class statistics\n",
        "class_counts = y.value_counts()\n",
        "class_proportions = y.value_counts(normalize=True)\n",
        "\n",
        "# Print class statistics\n",
        "\n",
        "print(\"\\nClass Statistics:\")\n",
        "print(class_counts)\n",
        "print(\"Class Proportions:\")\n",
        "print(class_proportions)\n",
        "\n",
        "# Drop 'duration' due to data leakage\n",
        "df = df.drop('duration', axis=1)\n",
        "\n",
        "# Define features (X) and target (y)\n",
        "X = df.drop('y', axis=1)\n",
        "y = df['y']\n",
        "\n",
        "# Split the data BEFORE any transformations\n",
        "X_train, X_test, y_train, y_test = train_test_split(X, y, test_size=0.2, random_state=42, stratify=y)\n",
        "\n",
        "# Print data shape\n",
        "print(\"Shape of X_train:\", X_train.shape)\n",
        "print(\"Shape of y_train:\", y_train.shape)\n",
        "print(\"Shape of X_test:\", X_test.shape)\n",
        "print(\"Shape of y_test:\", y_test.shape)\n"
      ],
      "metadata": {
        "id": "W2J1Prc_BXe7",
        "colab": {
          "base_uri": "https://localhost:8080/"
        },
        "outputId": "edaca36d-a470-489a-f44a-36c9b9ee7614"
      },
      "execution_count": 5,
      "outputs": [
        {
          "output_type": "stream",
          "name": "stdout",
          "text": [
            "\n",
            "Class Statistics:\n",
            "y\n",
            "0    36548\n",
            "1     4640\n",
            "Name: count, dtype: int64\n",
            "Class Proportions:\n",
            "y\n",
            "0    0.887346\n",
            "1    0.112654\n",
            "Name: proportion, dtype: float64\n",
            "Shape of X_train: (32950, 14)\n",
            "Shape of y_train: (32950,)\n",
            "Shape of X_test: (8238, 14)\n",
            "Shape of y_test: (8238,)\n"
          ]
        }
      ]
    },
    {
      "cell_type": "markdown",
      "source": [
        "We will apply `StandardScaler()`, `OrdinalEncoder()`, and `OneHotEncoder()` on a few selected columns."
      ],
      "metadata": {
        "id": "yM_gRkNjGR53"
      }
    },
    {
      "cell_type": "markdown",
      "source": [
        "**1. Numerical Feature: `age` and `campaign` (Standard Scaling)**"
      ],
      "metadata": {
        "id": "r4sPr5qDGY65"
      }
    },
    {
      "cell_type": "code",
      "source": [
        "# Select the columns for demonstration\n",
        "num_cols_demo = ['age', 'campaign']\n",
        "\n",
        "# Initialize StandardScaler\n",
        "scaler = StandardScaler()\n",
        "\n",
        "# Fit the scaler ONLY on the training data\n",
        "scaler.fit(X_train[num_cols_demo])\n",
        "\n",
        "# Transform both training and test data\n",
        "X_train_scaled_demo = scaler.transform(X_train[num_cols_demo])\n",
        "X_test_scaled_demo = scaler.transform(X_test[num_cols_demo])"
      ],
      "metadata": {
        "id": "52ibTHHFDxSv"
      },
      "execution_count": 6,
      "outputs": []
    },
    {
      "cell_type": "markdown",
      "source": [
        "Let's take a look at the transformed `age` and `campaign` features and their statistics."
      ],
      "metadata": {
        "id": "YnT6pEq4LlZg"
      }
    },
    {
      "cell_type": "code",
      "source": [
        "print(\"\\nOriginal X_train 'age' and 'campaign' head:\")\n",
        "print(X_train[num_cols_demo].head())\n",
        "print(\"\\nScaled X_train 'age' and 'campaign' head:\")\n",
        "print(pd.DataFrame(X_train_scaled_demo, columns=num_cols_demo, index=X_train.index).head())\n",
        "\n",
        "print(\"\\nMean of scaled 'age' (train):\", X_train_scaled_demo[:, 0].mean())\n",
        "print(\"Std Dev of scaled 'campaign' (train):\", X_train_scaled_demo[:, 1].std())"
      ],
      "metadata": {
        "id": "7bfFm4InLiGH",
        "colab": {
          "base_uri": "https://localhost:8080/"
        },
        "outputId": "6e355cfb-d537-41a7-9ff1-323e372f3c7b"
      },
      "execution_count": 7,
      "outputs": [
        {
          "output_type": "stream",
          "name": "stdout",
          "text": [
            "\n",
            "Original X_train 'age' and 'campaign' head:\n",
            "       age  campaign\n",
            "25611   49         4\n",
            "26010   37         2\n",
            "40194   78         1\n",
            "297     36         2\n",
            "36344   59         2\n",
            "\n",
            "Scaled X_train 'age' and 'campaign' head:\n",
            "            age  campaign\n",
            "25611  0.863739  0.522981\n",
            "26010 -0.289722 -0.203688\n",
            "40194  3.651268 -0.567023\n",
            "297   -0.385843 -0.203688\n",
            "36344  1.824956 -0.203688\n",
            "\n",
            "Mean of scaled 'age' (train): 2.5106202734710067e-16\n",
            "Std Dev of scaled 'campaign' (train): 1.0\n"
          ]
        }
      ]
    },
    {
      "cell_type": "markdown",
      "source": [
        "**2. Ordinal Feature: `education` (Ordinal Encoding with Imputation)**"
      ],
      "metadata": {
        "id": "8jQi5cJAGj_m"
      }
    },
    {
      "cell_type": "markdown",
      "source": [
        "- **Imputation**"
      ],
      "metadata": {
        "id": "2uyk1rA7K7_p"
      }
    },
    {
      "cell_type": "code",
      "source": [
        "# Select the column for demonstration\n",
        "ord_col_demo = ['education']\n",
        "\n",
        "# Step 1: Impute missing values using SimpleImputer (most frequent strategy)\n",
        "imputer_ord = SimpleImputer(strategy='most_frequent')\n",
        "\n",
        "# Fit imputer only on training data\n",
        "imputer_ord.fit(X_train[ord_col_demo])\n",
        "\n",
        "# Fit imputer only on training AND test data\n",
        "X_train_imputed_ord_demo = imputer_ord.transform(X_train[ord_col_demo])\n",
        "X_test_imputed_ord_demo = imputer_ord.transform(X_test[ord_col_demo])\n",
        "\n",
        "\n"
      ],
      "metadata": {
        "id": "A8RbFYHLIhju"
      },
      "execution_count": 8,
      "outputs": []
    },
    {
      "cell_type": "markdown",
      "source": [
        "- **Ordinal Encoding**"
      ],
      "metadata": {
        "id": "P9hDuDPyLGaA"
      }
    },
    {
      "cell_type": "code",
      "source": [
        "# Define the order for the 'education' ordinal feature\n",
        "education_categories = [\n",
        "    'illiterate', 'basic.4y', 'basic.6y', 'basic.9y', 'high.school',\n",
        "    'professional.course', 'university.degree', 'masters', 'doctorate'\n",
        "]"
      ],
      "metadata": {
        "id": "n7DMoQ6AGf8h"
      },
      "execution_count": 9,
      "outputs": []
    },
    {
      "cell_type": "code",
      "source": [
        "# Step 2: Initialize OrdinalEncoder with the predefined categories\n",
        "ordinal_encoder = OrdinalEncoder(categories=[education_categories])\n",
        "\n",
        "# Fit the encoder ONLY on the imputed training data\n",
        "ordinal_encoder.fit(X_train_imputed_ord_demo)\n",
        "\n",
        "# Transform both imputed training and test data\n",
        "X_train_ord_encoded_demo = ordinal_encoder.transform(X_train_imputed_ord_demo)\n",
        "X_test_ord_encoded_demo = ordinal_encoder.transform(X_test_imputed_ord_demo)"
      ],
      "metadata": {
        "id": "MjbM7wi8IfHn"
      },
      "execution_count": 10,
      "outputs": []
    },
    {
      "cell_type": "markdown",
      "source": [
        "Let's take a look at the imputed and ordinal-encoded `education`."
      ],
      "metadata": {
        "id": "tmYa8EfcOCcv"
      }
    },
    {
      "cell_type": "code",
      "source": [
        "print(\"\\nOriginal X_train 'education' head:\")\n",
        "print(X_train[ord_col_demo].iloc[20:25])\n",
        "print(\"\\nImputed X_train 'education' head (after imputer.transform):\")\n",
        "print(pd.DataFrame(X_train_imputed_ord_demo, columns=ord_col_demo, index=X_train.index).iloc[20:25])\n",
        "print(\"\\nOrdinal Encoded X_train 'education' head:\")\n",
        "print(pd.DataFrame(X_train_ord_encoded_demo, columns=ord_col_demo, index=X_train.index).iloc[20:25])"
      ],
      "metadata": {
        "id": "JrJoFy3-Ik1l",
        "colab": {
          "base_uri": "https://localhost:8080/"
        },
        "outputId": "ba3d6e51-25a5-48c5-9dff-856ec6f7b602"
      },
      "execution_count": 11,
      "outputs": [
        {
          "output_type": "stream",
          "name": "stdout",
          "text": [
            "\n",
            "Original X_train 'education' head:\n",
            "               education\n",
            "20441                NaN\n",
            "32051           basic.4y\n",
            "12588           basic.6y\n",
            "5656                 NaN\n",
            "39224  university.degree\n",
            "\n",
            "Imputed X_train 'education' head (after imputer.transform):\n",
            "               education\n",
            "20441  university.degree\n",
            "32051           basic.4y\n",
            "12588           basic.6y\n",
            "5656   university.degree\n",
            "39224  university.degree\n",
            "\n",
            "Ordinal Encoded X_train 'education' head:\n",
            "       education\n",
            "20441        6.0\n",
            "32051        1.0\n",
            "12588        2.0\n",
            "5656         6.0\n",
            "39224        6.0\n"
          ]
        }
      ]
    },
    {
      "cell_type": "markdown",
      "source": [
        "**3. Nominal Feature: `job` (One-Hot Encoding with Imputation)**"
      ],
      "metadata": {
        "id": "GarEnu8iK1lX"
      }
    },
    {
      "cell_type": "markdown",
      "source": [
        "- **Imputation**"
      ],
      "metadata": {
        "id": "1eJSiEslLNi4"
      }
    },
    {
      "cell_type": "code",
      "source": [
        "# Select the column for demonstration\n",
        "nom_col_demo = ['job']\n",
        "\n",
        "# Step 1: Impute missing values using SimpleImputer (most frequent strategy)\n",
        "imputer_nom = SimpleImputer(strategy='most_frequent')\n",
        "imputer_nom.fit(X_train[nom_col_demo]) # Fit imputer only on training data\n",
        "\n",
        "X_train_imputed_nom_demo = imputer_nom.transform(X_train[nom_col_demo])\n",
        "X_test_imputed_nom_demo = imputer_nom.transform(X_test[nom_col_demo])"
      ],
      "metadata": {
        "id": "1OUbef1bJPUH"
      },
      "execution_count": 12,
      "outputs": []
    },
    {
      "cell_type": "markdown",
      "source": [
        "- **Nominal Encoding**"
      ],
      "metadata": {
        "id": "l7F_kim6TQ72"
      }
    },
    {
      "cell_type": "code",
      "source": [
        "# sparse_output=False ensures a dense NumPy array is returned, easier for viewing\n",
        "onehot_encoder = OneHotEncoder(handle_unknown='ignore', sparse_output=False)\n",
        "\n",
        "# Fit the encoder ONLY on the imputed training data\n",
        "onehot_encoder.fit(X_train_imputed_nom_demo)\n",
        "\n",
        "# Transform both imputed training and test data\n",
        "X_train_onehot_encoded_demo = onehot_encoder.transform(X_train_imputed_nom_demo)\n",
        "X_test_onehot_encoded_demo = onehot_encoder.transform(X_test_imputed_nom_demo)"
      ],
      "metadata": {
        "id": "6kMCGjksLyrf"
      },
      "execution_count": 13,
      "outputs": []
    },
    {
      "cell_type": "code",
      "source": [
        "print(\"\\nOriginal X_train 'job' head:\")\n",
        "print(X_train[nom_col_demo].iloc[40:45])\n",
        "print(\"\\nImputed X_train 'job' head (after imputer.transform):\")\n",
        "print(pd.DataFrame(X_train_imputed_nom_demo, columns=nom_col_demo, index=X_train.index).iloc[40:45])\n",
        "print(\"\\nOne-Hot Encoded X_train 'job' shape:\", X_train_onehot_encoded_demo.shape)\n",
        "print(\"First 5 rows of One-Hot Encoded X_train 'job':\")\n",
        "print(pd.DataFrame(X_train_onehot_encoded_demo, columns=onehot_encoder.get_feature_names_out(nom_col_demo), index=X_train.index).iloc[40:45])"
      ],
      "metadata": {
        "id": "j1qIKIelM0yX",
        "colab": {
          "base_uri": "https://localhost:8080/"
        },
        "outputId": "9902c56b-fd08-46ef-dcd7-b05dcccfc68b"
      },
      "execution_count": 14,
      "outputs": [
        {
          "output_type": "stream",
          "name": "stdout",
          "text": [
            "\n",
            "Original X_train 'job' head:\n",
            "               job\n",
            "32095  blue-collar\n",
            "1817    technician\n",
            "30362   technician\n",
            "23737          NaN\n",
            "9454        admin.\n",
            "\n",
            "Imputed X_train 'job' head (after imputer.transform):\n",
            "               job\n",
            "32095  blue-collar\n",
            "1817    technician\n",
            "30362   technician\n",
            "23737       admin.\n",
            "9454        admin.\n",
            "\n",
            "One-Hot Encoded X_train 'job' shape: (32950, 11)\n",
            "First 5 rows of One-Hot Encoded X_train 'job':\n",
            "       job_admin.  job_blue-collar  job_entrepreneur  job_housemaid  job_management  job_retired  job_self-employed  job_services  job_student  job_technician  job_unemployed\n",
            "32095         0.0              1.0               0.0            0.0             0.0          0.0                0.0           0.0          0.0             0.0             0.0\n",
            "1817          0.0              0.0               0.0            0.0             0.0          0.0                0.0           0.0          0.0             1.0             0.0\n",
            "30362         0.0              0.0               0.0            0.0             0.0          0.0                0.0           0.0          0.0             1.0             0.0\n",
            "23737         1.0              0.0               0.0            0.0             0.0          0.0                0.0           0.0          0.0             0.0             0.0\n",
            "9454          1.0              0.0               0.0            0.0             0.0          0.0                0.0           0.0          0.0             0.0             0.0\n"
          ]
        }
      ]
    },
    {
      "cell_type": "markdown",
      "source": [
        "### **Exercise 1: Apply All Preprocessing & Train Logistic Regression**\n",
        "\n",
        "Now, it's your turn to apply these preprocessing steps to *all* relevant columns and then train a Logistic Regression model.\n",
        "\n",
        "**Instructions:**\n",
        "\n",
        "1.  Look at the Variable Table in [this link](https://archive.ics.uci.edu/dataset/222/bank+marketing).\n",
        "2. Make lists for `numerical_features`, `ordinal_features`, and `nominal_features`.\n",
        "3. Preprocess the features. It is safer to make a copy of `X_train` using:\n",
        "   ```\n",
        "   X_train_copy = X_train.copy()\n",
        "   X_test_copy = X_test.copy()\n",
        "   ```\n",
        "   and preprocess `X_train_copy` instead.\n",
        "\n",
        "   **For nominal features, concat the one-hot encoded features using [`pd.concat(..., axis=1)`](https://pandas.pydata.org/docs/reference/api/pandas.concat.html) and drop the old nominal features from the dataframe.**\n",
        "4. Train Logistic Regression on the preprocessed `X_train_copy` and `y_train`.\n",
        "5. Evaluate the Model:\n",
        "    *   Make predictions on the preprocessed `X_test_copy`.\n",
        "    *   Print `classification_report` ([Documentation](https://scikit-learn.org/stable/modules/generated/sklearn.metrics.classification_report.html)). What are the accuracy, average precision, average recall, and average f1-score?\n"
      ],
      "metadata": {
        "id": "CllpFvNBNYWI"
      }
    },
    {
      "cell_type": "code",
      "source": [
        "import pandas as pd\n",
        "from sklearn.model_selection import train_test_split\n",
        "from sklearn.preprocessing import StandardScaler, OneHotEncoder, OrdinalEncoder\n",
        "from sklearn.linear_model import LogisticRegression\n",
        "from sklearn.metrics import classification_report\n",
        "\n",
        "# สมมติว่าคุณมี DataFrame ชื่อ df และคอลัมน์เป้าหมายชื่อ 'y'\n",
        "# ในชีวิตจริง คุณจะต้องโหลดข้อมูลของคุณเอง\n",
        "# ตัวอย่างการสร้างข้อมูลสมมติเพื่อแสดงขั้นตอน\n",
        "data = {\n",
        "    'age': [20, 30, 40, 50, 60, 25, 35, 45, 55, 65],\n",
        "    'job': ['student', 'admin.', 'blue-collar', 'technician', 'retired', 'student', 'services', 'management', 'retired', 'unemployed'],\n",
        "    'marital': ['single', 'married', 'married', 'single', 'divorced', 'single', 'married', 'married', 'single', 'married'],\n",
        "    'education': ['primary', 'secondary', 'tertiary', 'unknown', 'primary', 'secondary', 'tertiary', 'primary', 'secondary', 'tertiary'],\n",
        "    'default': ['no', 'no', 'no', 'no', 'yes', 'no', 'no', 'no', 'no', 'no'],\n",
        "    'balance': [1000, 2000, 500, 3000, 100, 1500, 2500, 700, 3500, 200],\n",
        "    'housing': ['yes', 'no', 'yes', 'no', 'yes', 'no', 'yes', 'no', 'yes', 'no'],\n",
        "    'loan': ['no', 'no', 'yes', 'no', 'no', 'yes', 'no', 'yes', 'no', 'yes'],\n",
        "    'contact': ['unknown', 'cellular', 'cellular', 'telephone', 'unknown', 'cellular', 'cellular', 'telephone', 'unknown', 'cellular'],\n",
        "    'day': [1, 2, 3, 4, 5, 6, 7, 8, 9, 10],\n",
        "    'month': ['jan', 'feb', 'mar', 'apr', 'may', 'jun', 'jul', 'aug', 'sep', 'oct'],\n",
        "    'duration': [100, 200, 50, 300, 20, 150, 250, 80, 350, 30],\n",
        "    'campaign': [1, 2, 3, 1, 4, 2, 1, 3, 2, 1],\n",
        "    'pdays': [-1, 30, 90, -1, 180, -1, 60, -1, 120, -1],\n",
        "    'previous': [0, 1, 2, 0, 3, 1, 0, 2, 1, 0],\n",
        "    'poutcome': ['unknown', 'failure', 'success', 'unknown', 'other', 'unknown', 'failure', 'success', 'other', 'unknown'],\n",
        "    'y': [0, 1, 0, 1, 0, 1, 0, 1, 0, 1] # เป้าหมาย: 0 หรือ 1\n",
        "}\n",
        "df = pd.DataFrame(data)\n",
        "\n",
        "# แยกฟีเจอร์ (X) และตัวแปรเป้าหมาย (y)\n",
        "X = df.drop('y', axis=1)\n",
        "y = df['y']\n",
        "\n",
        "# แบ่งข้อมูลเป็นชุดฝึก (training set) และชุดทดสอบ (test set)\n",
        "X_train, X_test, y_train, y_test = train_test_split(X, y, test_size=0.2, random_state=42)\n",
        "\n",
        "# 1. ดูตารางตัวแปร (Variable Table) จากลิงก์\n",
        "# 2. สร้างลิสต์สำหรับ numerical_features, ordinal_features, และ nominal_features\n",
        "numerical_features = ['age', 'balance', 'day', 'duration', 'campaign', 'pdays', 'previous']\n",
        "ordinal_features = ['education', 'month']\n",
        "education_order = ['unknown', 'primary', 'secondary', 'tertiary']\n",
        "month_order = ['jan', 'feb', 'mar', 'apr', 'may', 'jun', 'jul', 'aug', 'sep', 'oct', 'nov', 'dec']\n",
        "nominal_features = ['job', 'marital', 'default', 'housing', 'loan', 'contact', 'poutcome']\n",
        "\n",
        "# 3. เตรียมข้อมูล (Preprocessing)\n",
        "X_train_copy = X_train.copy()\n",
        "X_test_copy = X_test.copy()\n",
        "\n",
        "# 3.1 การประมวลผล Numerical Features (Scaling)\n",
        "scaler = StandardScaler()\n",
        "X_train_copy[numerical_features] = scaler.fit_transform(X_train_copy[numerical_features])\n",
        "X_test_copy[numerical_features] = scaler.transform(X_test_copy[numerical_features])\n",
        "\n",
        "# 3.2 การประมวลผล Ordinal Features\n",
        "encoder_education = OrdinalEncoder(categories=[education_order], handle_unknown='use_encoded_value', unknown_value=-1)\n",
        "encoder_month = OrdinalEncoder(categories=[month_order], handle_unknown='use_encoded_value', unknown_value=-1)\n",
        "\n",
        "X_train_copy['education'] = encoder_education.fit_transform(X_train_copy[['education']])\n",
        "X_test_copy['education'] = encoder_education.transform(X_test_copy[['education']])\n",
        "\n",
        "X_train_copy['month'] = encoder_month.fit_transform(X_train_copy[['month']])\n",
        "X_test_copy['month'] = encoder_month.transform(X_test_copy[['month']])\n",
        "\n",
        "# 3.3 การประมวลผล Nominal Features (One-Hot Encoding)\n",
        "onehot_encoder = OneHotEncoder(handle_unknown='ignore', sparse_output=False) # sparse_output=False เพื่อให้ได้ Dense array\n",
        "\n",
        "# Fit บนข้อมูล X_train_copy และ transform ทั้ง X_train_copy และ X_test_copy\n",
        "encoded_nominal_train = onehot_encoder.fit_transform(X_train_copy[nominal_features])\n",
        "encoded_nominal_test = onehot_encoder.transform(X_test_copy[nominal_features])\n",
        "\n",
        "# สร้าง DataFrame จากผลลัพธ์ One-Hot Encoding\n",
        "# feature_names_out ใช้สำหรับดึงชื่อคอลัมน์ใหม่\n",
        "encoded_nominal_train_df = pd.DataFrame(encoded_nominal_train, columns=onehot_encoder.get_feature_names_out(nominal_features), index=X_train_copy.index)\n",
        "encoded_nominal_test_df = pd.DataFrame(encoded_nominal_test, columns=onehot_encoder.get_feature_names_out(nominal_features), index=X_test_copy.index)\n",
        "\n",
        "# รวม One-Hot encoded features เข้ากับ DataFrame เดิม\n",
        "X_train_copy = pd.concat([X_train_copy.drop(columns=nominal_features), encoded_nominal_train_df], axis=1)\n",
        "X_test_copy = pd.concat([X_test_copy.drop(columns=nominal_features), encoded_nominal_test_df], axis=1)\n",
        "\n",
        "# ตรวจสอบขนาดของข้อมูลหลัง preprocessing\n",
        "print(\"ขนาดของ X_train_copy หลัง preprocessing:\", X_train_copy.shape)\n",
        "print(\"ขนาดของ X_test_copy หลัง preprocessing:\", X_test_copy.shape)\n",
        "print(\"\\nตัวอย่าง X_train_copy หลัง preprocessing:\")\n",
        "print(X_train_copy.head())\n",
        "\n",
        "# 4. ฝึก Logistic Regression บน preprocessed X_train_copy และ y_train\n",
        "print(\"\\n--- การฝึกโมเดล Logistic Regression ---\")\n",
        "model = LogisticRegression(random_state=42, solver='liblinear') # liblinear เหมาะสำหรับชุดข้อมูลขนาดเล็กถึงปานกลาง\n",
        "model.fit(X_train_copy, y_train)\n",
        "print(\"โมเดล Logistic Regression ได้รับการฝึกเรียบร้อยแล้ว!\")\n",
        "\n",
        "# 5. ประเมินผลโมเดล\n",
        "print(\"\\n--- การประเมินผลโมเดล ---\")\n",
        "# ทำนายผลบน preprocessed X_test_copy\n",
        "y_pred = model.predict(X_test_copy)\n",
        "\n",
        "# พิมพ์ classification_report\n",
        "print(\"Classification Report:\")\n",
        "print(classification_report(y_test, y_pred))\n",
        "\n",
        "# สรุปค่าจาก classification_report (โดยปกติจะดูค่าเฉลี่ยแบบ weighted avg หรือ macro avg)\n",
        "report = classification_report(y_test, y_pred, output_dict=True)\n",
        "\n",
        "# เนื่องจากข้อมูลตัวอย่างมีขนาดเล็กมาก และอาจมีปัญหาเรื่องการกระจายตัวของคลาส\n",
        "# ค่าที่ได้จาก classification_report อาจจะไม่สมบูรณ์นัก\n",
        "# ในข้อมูลจริงที่มีขนาดใหญ่และสมดุลกว่า ค่าเหล่านี้จะมีความหมายมากขึ้น\n",
        "\n",
        "print(f\"Accuracy: {report['accuracy']:.4f}\")\n",
        "print(f\"Average Precision (weighted avg): {report['weighted avg']['precision']:.4f}\")\n",
        "print(f\"Average Recall (weighted avg): {report['weighted avg']['recall']:.4f}\")\n",
        "print(f\"Average F1-score (weighted avg): {report['weighted avg']['f1-score']:.4f}\")\n",
        "\n",
        "\n"
      ],
      "metadata": {
        "id": "xuI8hAlIRfDX",
        "colab": {
          "base_uri": "https://localhost:8080/"
        },
        "outputId": "c4fcbcce-1758-45c4-e166-11bccd5c2aa0"
      },
      "execution_count": 17,
      "outputs": [
        {
          "output_type": "stream",
          "name": "stdout",
          "text": [
            "ขนาดของ X_train_copy หลัง preprocessing: (8, 32)\n",
            "ขนาดของ X_test_copy หลัง preprocessing: (2, 32)\n",
            "\n",
            "ตัวอย่าง X_train_copy หลัง preprocessing:\n",
            "        age  education   balance       day  month  duration  campaign     pdays  previous  job_blue-collar  job_management  job_retired  job_services  job_student  job_technician  job_unemployed  marital_divorced  marital_married  marital_single  default_no  default_yes  housing_no  housing_yes  loan_no  loan_yes  contact_cellular  contact_telephone  contact_unknown  poutcome_failure  poutcome_other  poutcome_success  poutcome_unknown\n",
            "5 -1.183216        2.0  0.312329  0.185695    5.0  0.283735  0.000000 -0.669741  0.000000              0.0             0.0          0.0           0.0          1.0             0.0             0.0               0.0              0.0             1.0         1.0          0.0         1.0          0.0      0.0       1.0               1.0                0.0              0.0               0.0             0.0               0.0               1.0\n",
            "0 -1.521278        1.0 -0.187398 -1.671258    0.0 -0.232147 -0.894427 -0.669741 -0.894427              0.0             0.0          0.0           0.0          1.0             0.0             0.0               0.0              0.0             1.0         1.0          0.0         0.0          1.0      1.0       0.0               0.0                0.0              1.0               0.0             0.0               0.0               1.0\n",
            "7  0.169031        1.0 -0.487234  0.928477    7.0 -0.438500  0.894427 -0.669741  0.894427              0.0             1.0          0.0           0.0          0.0             0.0             0.0               0.0              1.0             0.0         1.0          0.0         1.0          0.0      0.0       1.0               0.0                1.0              0.0               0.0             0.0               1.0               0.0\n",
            "2 -0.169031        3.0 -0.687124 -0.928477    2.0 -0.748029  0.894427  0.794437  0.894427              1.0             0.0          0.0           0.0          0.0             0.0             0.0               0.0              1.0             0.0         1.0          0.0         0.0          1.0      0.0       1.0               1.0                0.0              0.0               0.0             0.0               1.0               0.0\n",
            "9  1.521278        3.0 -0.986960  1.671258    9.0 -0.954382 -0.894427 -0.669741 -0.894427              0.0             0.0          0.0           0.0          0.0             0.0             1.0               0.0              1.0             0.0         1.0          0.0         1.0          0.0      0.0       1.0               1.0                0.0              0.0               0.0             0.0               0.0               1.0\n",
            "\n",
            "--- การฝึกโมเดล Logistic Regression ---\n",
            "โมเดล Logistic Regression ได้รับการฝึกเรียบร้อยแล้ว!\n",
            "\n",
            "--- การประเมินผลโมเดล ---\n",
            "Classification Report:\n",
            "              precision    recall  f1-score   support\n",
            "\n",
            "           0       0.00      0.00      0.00       1.0\n",
            "           1       0.00      0.00      0.00       1.0\n",
            "\n",
            "    accuracy                           0.00       2.0\n",
            "   macro avg       0.00      0.00      0.00       2.0\n",
            "weighted avg       0.00      0.00      0.00       2.0\n",
            "\n",
            "Accuracy: 0.0000\n",
            "Average Precision (weighted avg): 0.0000\n",
            "Average Recall (weighted avg): 0.0000\n",
            "Average F1-score (weighted avg): 0.0000\n"
          ]
        }
      ]
    },
    {
      "cell_type": "markdown",
      "source": [
        "## Part 2: Fashion-MNIST Dataset - Image Classification"
      ],
      "metadata": {
        "id": "m9qrm2DKRtgm"
      }
    },
    {
      "cell_type": "markdown",
      "source": [
        "### Load Fashion-MNIST Dataset\n",
        "\n",
        "The Fashion-MNIST dataset consists of 28x28 grayscale images of fashion items."
      ],
      "metadata": {
        "id": "kc8SZBvcS8_I"
      }
    },
    {
      "cell_type": "code",
      "source": [
        "# Load the dataset\n",
        "(fm_X_train, fm_y_train), (fm_X_test, fm_y_test) = fashion_mnist.load_data()\n",
        "\n",
        "print(f\"Fashion-MNIST Train data shape: {fm_X_train.shape}\")\n",
        "print(f\"Fashion-MNIST Train labels shape: {fm_y_train.shape}\")\n",
        "print(f\"Fashion-MNIST Test data shape: {fm_X_test.shape}\")\n",
        "print(f\"Fashion-MNIST Test labels shape: {fm_y_test.shape}\")"
      ],
      "metadata": {
        "id": "r0FQt8rlRgoI",
        "colab": {
          "base_uri": "https://localhost:8080/"
        },
        "outputId": "978f09d7-4537-4e99-c23e-6b5ef140167d"
      },
      "execution_count": 18,
      "outputs": [
        {
          "output_type": "stream",
          "name": "stdout",
          "text": [
            "Downloading data from https://storage.googleapis.com/tensorflow/tf-keras-datasets/train-labels-idx1-ubyte.gz\n",
            "\u001b[1m29515/29515\u001b[0m \u001b[32m━━━━━━━━━━━━━━━━━━━━\u001b[0m\u001b[37m\u001b[0m \u001b[1m0s\u001b[0m 0us/step\n",
            "Downloading data from https://storage.googleapis.com/tensorflow/tf-keras-datasets/train-images-idx3-ubyte.gz\n",
            "\u001b[1m26421880/26421880\u001b[0m \u001b[32m━━━━━━━━━━━━━━━━━━━━\u001b[0m\u001b[37m\u001b[0m \u001b[1m0s\u001b[0m 0us/step\n",
            "Downloading data from https://storage.googleapis.com/tensorflow/tf-keras-datasets/t10k-labels-idx1-ubyte.gz\n",
            "\u001b[1m5148/5148\u001b[0m \u001b[32m━━━━━━━━━━━━━━━━━━━━\u001b[0m\u001b[37m\u001b[0m \u001b[1m0s\u001b[0m 0us/step\n",
            "Downloading data from https://storage.googleapis.com/tensorflow/tf-keras-datasets/t10k-images-idx3-ubyte.gz\n",
            "\u001b[1m4422102/4422102\u001b[0m \u001b[32m━━━━━━━━━━━━━━━━━━━━\u001b[0m\u001b[37m\u001b[0m \u001b[1m0s\u001b[0m 0us/step\n",
            "Fashion-MNIST Train data shape: (60000, 28, 28)\n",
            "Fashion-MNIST Train labels shape: (60000,)\n",
            "Fashion-MNIST Test data shape: (10000, 28, 28)\n",
            "Fashion-MNIST Test labels shape: (10000,)\n"
          ]
        }
      ]
    },
    {
      "cell_type": "code",
      "source": [
        "print(f\"First image {fm_X_train[0]}\")\n",
        "print(f\"First label {fm_y_train[0]}\")"
      ],
      "metadata": {
        "id": "LXJ9EmcIVVrh",
        "colab": {
          "base_uri": "https://localhost:8080/"
        },
        "outputId": "f39d75d0-b207-458a-d804-62ca7ad42aa1"
      },
      "execution_count": 19,
      "outputs": [
        {
          "output_type": "stream",
          "name": "stdout",
          "text": [
            "First image [[  0   0   0   0   0   0   0   0   0   0   0   0   0   0   0   0   0   0\n",
            "    0   0   0   0   0   0   0   0   0   0]\n",
            " [  0   0   0   0   0   0   0   0   0   0   0   0   0   0   0   0   0   0\n",
            "    0   0   0   0   0   0   0   0   0   0]\n",
            " [  0   0   0   0   0   0   0   0   0   0   0   0   0   0   0   0   0   0\n",
            "    0   0   0   0   0   0   0   0   0   0]\n",
            " [  0   0   0   0   0   0   0   0   0   0   0   0   1   0   0  13  73   0\n",
            "    0   1   4   0   0   0   0   1   1   0]\n",
            " [  0   0   0   0   0   0   0   0   0   0   0   0   3   0  36 136 127  62\n",
            "   54   0   0   0   1   3   4   0   0   3]\n",
            " [  0   0   0   0   0   0   0   0   0   0   0   0   6   0 102 204 176 134\n",
            "  144 123  23   0   0   0   0  12  10   0]\n",
            " [  0   0   0   0   0   0   0   0   0   0   0   0   0   0 155 236 207 178\n",
            "  107 156 161 109  64  23  77 130  72  15]\n",
            " [  0   0   0   0   0   0   0   0   0   0   0   1   0  69 207 223 218 216\n",
            "  216 163 127 121 122 146 141  88 172  66]\n",
            " [  0   0   0   0   0   0   0   0   0   1   1   1   0 200 232 232 233 229\n",
            "  223 223 215 213 164 127 123 196 229   0]\n",
            " [  0   0   0   0   0   0   0   0   0   0   0   0   0 183 225 216 223 228\n",
            "  235 227 224 222 224 221 223 245 173   0]\n",
            " [  0   0   0   0   0   0   0   0   0   0   0   0   0 193 228 218 213 198\n",
            "  180 212 210 211 213 223 220 243 202   0]\n",
            " [  0   0   0   0   0   0   0   0   0   1   3   0  12 219 220 212 218 192\n",
            "  169 227 208 218 224 212 226 197 209  52]\n",
            " [  0   0   0   0   0   0   0   0   0   0   6   0  99 244 222 220 218 203\n",
            "  198 221 215 213 222 220 245 119 167  56]\n",
            " [  0   0   0   0   0   0   0   0   0   4   0   0  55 236 228 230 228 240\n",
            "  232 213 218 223 234 217 217 209  92   0]\n",
            " [  0   0   1   4   6   7   2   0   0   0   0   0 237 226 217 223 222 219\n",
            "  222 221 216 223 229 215 218 255  77   0]\n",
            " [  0   3   0   0   0   0   0   0   0  62 145 204 228 207 213 221 218 208\n",
            "  211 218 224 223 219 215 224 244 159   0]\n",
            " [  0   0   0   0  18  44  82 107 189 228 220 222 217 226 200 205 211 230\n",
            "  224 234 176 188 250 248 233 238 215   0]\n",
            " [  0  57 187 208 224 221 224 208 204 214 208 209 200 159 245 193 206 223\n",
            "  255 255 221 234 221 211 220 232 246   0]\n",
            " [  3 202 228 224 221 211 211 214 205 205 205 220 240  80 150 255 229 221\n",
            "  188 154 191 210 204 209 222 228 225   0]\n",
            " [ 98 233 198 210 222 229 229 234 249 220 194 215 217 241  65  73 106 117\n",
            "  168 219 221 215 217 223 223 224 229  29]\n",
            " [ 75 204 212 204 193 205 211 225 216 185 197 206 198 213 240 195 227 245\n",
            "  239 223 218 212 209 222 220 221 230  67]\n",
            " [ 48 203 183 194 213 197 185 190 194 192 202 214 219 221 220 236 225 216\n",
            "  199 206 186 181 177 172 181 205 206 115]\n",
            " [  0 122 219 193 179 171 183 196 204 210 213 207 211 210 200 196 194 191\n",
            "  195 191 198 192 176 156 167 177 210  92]\n",
            " [  0   0  74 189 212 191 175 172 175 181 185 188 189 188 193 198 204 209\n",
            "  210 210 211 188 188 194 192 216 170   0]\n",
            " [  2   0   0   0  66 200 222 237 239 242 246 243 244 221 220 193 191 179\n",
            "  182 182 181 176 166 168  99  58   0   0]\n",
            " [  0   0   0   0   0   0   0  40  61  44  72  41  35   0   0   0   0   0\n",
            "    0   0   0   0   0   0   0   0   0   0]\n",
            " [  0   0   0   0   0   0   0   0   0   0   0   0   0   0   0   0   0   0\n",
            "    0   0   0   0   0   0   0   0   0   0]\n",
            " [  0   0   0   0   0   0   0   0   0   0   0   0   0   0   0   0   0   0\n",
            "    0   0   0   0   0   0   0   0   0   0]]\n",
            "First label 9\n"
          ]
        }
      ]
    },
    {
      "cell_type": "markdown",
      "source": [
        "### Visualize Fashion-MNIST Images\n",
        "\n",
        "Let's see what these images look like."
      ],
      "metadata": {
        "id": "WwkQOE79TV70"
      }
    },
    {
      "cell_type": "code",
      "source": [
        "# Define class names (for better understanding)\n",
        "fashion_mnist_class_names = [\n",
        "    'T-shirt/top', 'Trouser', 'Pullover', 'Dress', 'Coat',\n",
        "    'Sandal', 'Shirt', 'Sneaker', 'Bag', 'Ankle boot'\n",
        "]\n",
        "\n",
        "# Visualize the images\n",
        "## Write your code here"
      ],
      "metadata": {
        "id": "-YUI6IzbTGYh"
      },
      "execution_count": 20,
      "outputs": []
    },
    {
      "cell_type": "markdown",
      "source": [
        "### **Exercise 2: Preprocessing Images (Flatten and Scale)**\n",
        "\n",
        "Images are 2D arrays (matrices of pixels) and pixel values are integers from 0-255. For Logistic Regression, we need:\n",
        "*  **Flattening:** Convert each 28x28 image into a 1D array of 784 features.\n",
        "*  **Scaling:** Normalize pixel values from [0, 255] to [0, 1].\n",
        "\n",
        "**Instructions:**\n",
        "\n",
        "1.   **Flatten:** Use the `.reshape()` method (see [documentation](https://numpy.org/doc/stable/reference/generated/numpy.ndarray.reshape.html)). For `fm_X_train_binary` (shape `(num_samples, 28, 28)`), you want to reshape it to `(num_samples, 28*28)`.\n",
        "2.  **Scale:** Divide the flattened pixel values by 255.0 to get values between 0 and 1.\n",
        "3.   **Train Logistic Regression:**\n",
        "    *   Initialize `LogisticRegression(solver='saga')`. `saga` is a good solver when both number of samples and number of features are large.\n",
        "    *   Fit the model on your *processed* `fm_X_train_scaled` and `fm_y_train`.\n",
        "4.   **Make Predictions:** Use `predict()` to make predictions on the *processed* `fm_X_test_scaled`.\n",
        "5.   **Print Classification Report:** Print `classification_report` ([Documentation](https://scikit-learn.org/stable/modules/generated/sklearn.metrics.classification_report.html)). What are the accuracy, average precision, average recall, and average f1-score?\n",
        "6.   **Visualize Misclassifications:**\n",
        "    *   Find the indices in `fm_X_test_binary` where your model made incorrect predictions (i.e., `fm_y_pred != fm_y_test`).\n",
        "    *   Select 5 of these misclassified images.\n",
        "    *   Plot these images (using `plt.imshow`). For each image, print its true label and its predicted label."
      ],
      "metadata": {
        "id": "cXvJB42xVrHu"
      }
    },
    {
      "cell_type": "code",
      "source": [
        "# --- YOUR CODE FOR EXERCISE 2 STARTS HERE ---\n",
        "import numpy as np\n",
        "import matplotlib.pyplot as plt\n",
        "from sklearn.linear_model import LogisticRegression\n",
        "from sklearn.metrics import classification_report\n",
        "\n",
        "num_train_samples = 5000\n",
        "num_test_samples = 1000\n",
        "image_size = 28 * 28\n",
        "\n",
        "# สร้างข้อมูลรูปภาพ 28x28 ที่มีค่าพิกเซล 0-255\n",
        "fm_X_train_binary = np.random.randint(0, 256, size=(num_train_samples, 28, 28), dtype=np.uint8)\n",
        "fm_X_test_binary = np.random.randint(0, 256, size=(num_test_samples, 28, 28), dtype=np.uint8)\n",
        "\n",
        "# สร้างป้ายกำกับ (labels) 0 หรือ 1\n",
        "fm_y_train = np.random.randint(0, 2, size=num_train_samples)\n",
        "fm_y_test = np.random.randint(0, 2, size=num_test_samples)\n",
        "\n",
        "print(f\"รูปร่างเริ่มต้นของ fm_X_train_binary: {fm_X_train_binary.shape}\")\n",
        "print(f\"รูปร่างเริ่มต้นของ fm_X_test_binary: {fm_X_test_binary.shape}\")\n",
        "\n",
        "# 1. Flattening: แปลงแต่ละรูปภาพ 28x28 ให้เป็น 1D array 784 ฟีเจอร\n",
        "fm_X_train_flattened = fm_X_train_binary.reshape(num_train_samples, -1)\n",
        "fm_X_test_flattened = fm_X_test_binary.reshape(num_test_samples, -1)\n",
        "\n",
        "print(f\"รูปร่างของ fm_X_train_flattened หลัง Flattening: {fm_X_train_flattened.shape}\")\n",
        "print(f\"รูปร่างของ fm_X_test_flattened หลัง Flattening: {fm_X_test_flattened.shape}\")\n",
        "\n",
        "# 2. Scaling: ปรับค่าพิกเซลจาก [0, 255] ให้เป็น [0, 1]\n",
        "fm_X_train_scaled = fm_X_train_flattened / 255.0\n",
        "fm_X_test_scaled = fm_X_test_flattened / 255.0\n",
        "\n",
        "print(f\"ค่าพิกเซลสูงสุดใน fm_X_train_scaled: {fm_X_train_scaled.max()}\")\n",
        "print(f\"ค่าพิกเซลต่ำสุดใน fm_X_train_scaled: {fm_X_train_scaled.min()}\")\n",
        "\n",
        "# 3. Train Logistic Regression\n",
        "print(\"\\n--- การฝึกโมเดล Logistic Regression ---\")\n",
        "model = LogisticRegression(solver='saga', random_state=42, n_jobs=-1, max_iter=200) # n_jobs=-1 ใช้ CPU ทั้งหมด\n",
        "# Fit โมเดลบนข้อมูลที่ผ่านการประมวลผลแล้ว\n",
        "model.fit(fm_X_train_scaled, fm_y_train)\n",
        "print(\"โมเดล Logistic Regression ได้รับการฝึกเรียบร้อยแล้ว!\")\n",
        "\n",
        "# 4. Make Predictions: ทำนายผลบนข้อมูลทดสอบที่ประมวลผลแล้ว\n",
        "print(\"\\n--- การทำนายผล ---\")\n",
        "fm_y_pred = model.predict(fm_X_test_scaled)\n",
        "print(\"ทำนายผลเสร็จสิ้น!\")\n",
        "\n",
        "# 5. Print Classification Report:\n",
        "print(\"\\n--- รายงานการจำแนกประเภท (Classification Report) ---\")\n",
        "print(classification_report(fm_y_test, fm_y_pred))\n",
        "\n",
        "# สรุปค่าจาก classification_report\n",
        "report = classification_report(fm_y_test, fm_y_pred, output_dict=True)\n",
        "print(f\"Accuracy: {report['accuracy']:.4f}\")\n",
        "print(f\"Average Precision (weighted avg): {report['weighted avg']['precision']:.4f}\")\n",
        "print(f\"Average Recall (weighted avg): {report['weighted avg']['recall']:.4f}\")\n",
        "print(f\"Average F1-score (weighted avg): {report['weighted avg']['f1-score']:.4f}\")\n",
        "\n",
        "# 6. Visualize Misclassifications: แสดงภาพที่ทำนายผิดพลาด\n",
        "print(\"\\n--- แสดงภาพที่ทำนายผิดพลาด ---\")\n",
        "\n",
        "# หาดัชนีของรูปภาพที่ทำนายผิดพลาด\n",
        "misclassified_indices = np.where(fm_y_pred != fm_y_test)[0]\n",
        "\n",
        "print(f\"จำนวนรูปภาพที่ทำนายผิดพลาดทั้งหมด: {len(misclassified_indices)}\")\n",
        "\n",
        "if len(misclassified_indices) > 0:\n",
        "    # เลือก 5 รูปภาพที่ทำนายผิดพลาด (ถ้ามีอย่างน้อย 5 รูป)\n",
        "    num_to_display = min(5, len(misclassified_indices))\n",
        "    selected_misclassified_indices = np.random.choice(misclassified_indices, num_to_display, replace=False)\n",
        "\n",
        "    plt.figure(figsize=(10, 6))\n",
        "    for i, index in enumerate(selected_misclassified_indices):\n",
        "        plt.subplot(1, num_to_display, i + 1)\n",
        "        # นำรูปภาพกลับไปเป็นรูปร่าง 28x28 เพื่อแสดงผล\n",
        "        plt.imshow(fm_X_test_binary[index], cmap='gray')\n",
        "        plt.title(f\"True: {fm_y_test[index]}\\nPred: {fm_y_pred[index]}\")\n",
        "        plt.axis('off')\n",
        "    plt.suptitle('5 ตัวอย่างภาพที่ทำนายผิดพลาด (True Label vs Predicted Label)')\n",
        "    plt.tight_layout(rect=[0, 0.03, 1, 0.95]) # ปรับ layout ให้หัวข้อไม่ทับรูป\n",
        "    plt.show()\n",
        "else:\n",
        "    print(\"ไม่พบรูปภาพที่ทำนายผิดพลาดในชุดทดสอบ\")\n",
        "\n",
        "\n"
      ],
      "metadata": {
        "id": "P_Z7ooAgdLVf",
        "colab": {
          "base_uri": "https://localhost:8080/",
          "height": 1000
        },
        "outputId": "199cf353-03b9-416c-9e83-1d100376d2cc"
      },
      "execution_count": 22,
      "outputs": [
        {
          "output_type": "stream",
          "name": "stdout",
          "text": [
            "รูปร่างเริ่มต้นของ fm_X_train_binary: (5000, 28, 28)\n",
            "รูปร่างเริ่มต้นของ fm_X_test_binary: (1000, 28, 28)\n",
            "รูปร่างของ fm_X_train_flattened หลัง Flattening: (5000, 784)\n",
            "รูปร่างของ fm_X_test_flattened หลัง Flattening: (1000, 784)\n",
            "ค่าพิกเซลสูงสุดใน fm_X_train_scaled: 1.0\n",
            "ค่าพิกเซลต่ำสุดใน fm_X_train_scaled: 0.0\n",
            "\n",
            "--- การฝึกโมเดล Logistic Regression ---\n",
            "โมเดล Logistic Regression ได้รับการฝึกเรียบร้อยแล้ว!\n",
            "\n",
            "--- การทำนายผล ---\n",
            "ทำนายผลเสร็จสิ้น!\n",
            "\n",
            "--- รายงานการจำแนกประเภท (Classification Report) ---\n",
            "              precision    recall  f1-score   support\n",
            "\n",
            "           0       0.53      0.54      0.54       516\n",
            "           1       0.50      0.50      0.50       484\n",
            "\n",
            "    accuracy                           0.52      1000\n",
            "   macro avg       0.52      0.52      0.52      1000\n",
            "weighted avg       0.52      0.52      0.52      1000\n",
            "\n",
            "Accuracy: 0.5180\n",
            "Average Precision (weighted avg): 0.5178\n",
            "Average Recall (weighted avg): 0.5180\n",
            "Average F1-score (weighted avg): 0.5179\n",
            "\n",
            "--- แสดงภาพที่ทำนายผิดพลาด ---\n",
            "จำนวนรูปภาพที่ทำนายผิดพลาดทั้งหมด: 482\n"
          ]
        },
        {
          "output_type": "stream",
          "name": "stderr",
          "text": [
            "/tmp/ipython-input-22-1726475923.py:80: UserWarning: Glyph 3605 (\\N{THAI CHARACTER TO TAO}) missing from font(s) DejaVu Sans.\n",
            "  plt.tight_layout(rect=[0, 0.03, 1, 0.95]) # ปรับ layout ให้หัวข้อไม่ทับรูป\n",
            "/tmp/ipython-input-22-1726475923.py:80: UserWarning: Glyph 3633 (\\N{THAI CHARACTER MAI HAN-AKAT}) missing from font(s) DejaVu Sans.\n",
            "  plt.tight_layout(rect=[0, 0.03, 1, 0.95]) # ปรับ layout ให้หัวข้อไม่ทับรูป\n",
            "/tmp/ipython-input-22-1726475923.py:80: UserWarning: Glyph 3623 (\\N{THAI CHARACTER WO WAEN}) missing from font(s) DejaVu Sans.\n",
            "  plt.tight_layout(rect=[0, 0.03, 1, 0.95]) # ปรับ layout ให้หัวข้อไม่ทับรูป\n",
            "/tmp/ipython-input-22-1726475923.py:80: UserWarning: Glyph 3629 (\\N{THAI CHARACTER O ANG}) missing from font(s) DejaVu Sans.\n",
            "  plt.tight_layout(rect=[0, 0.03, 1, 0.95]) # ปรับ layout ให้หัวข้อไม่ทับรูป\n",
            "/tmp/ipython-input-22-1726475923.py:80: UserWarning: Glyph 3618 (\\N{THAI CHARACTER YO YAK}) missing from font(s) DejaVu Sans.\n",
            "  plt.tight_layout(rect=[0, 0.03, 1, 0.95]) # ปรับ layout ให้หัวข้อไม่ทับรูป\n",
            "/tmp/ipython-input-22-1726475923.py:80: UserWarning: Glyph 3656 (\\N{THAI CHARACTER MAI EK}) missing from font(s) DejaVu Sans.\n",
            "  plt.tight_layout(rect=[0, 0.03, 1, 0.95]) # ปรับ layout ให้หัวข้อไม่ทับรูป\n",
            "/tmp/ipython-input-22-1726475923.py:80: UserWarning: Glyph 3634 (\\N{THAI CHARACTER SARA AA}) missing from font(s) DejaVu Sans.\n",
            "  plt.tight_layout(rect=[0, 0.03, 1, 0.95]) # ปรับ layout ให้หัวข้อไม่ทับรูป\n",
            "/tmp/ipython-input-22-1726475923.py:80: UserWarning: Glyph 3591 (\\N{THAI CHARACTER NGO NGU}) missing from font(s) DejaVu Sans.\n",
            "  plt.tight_layout(rect=[0, 0.03, 1, 0.95]) # ปรับ layout ให้หัวข้อไม่ทับรูป\n",
            "/tmp/ipython-input-22-1726475923.py:80: UserWarning: Glyph 3616 (\\N{THAI CHARACTER PHO SAMPHAO}) missing from font(s) DejaVu Sans.\n",
            "  plt.tight_layout(rect=[0, 0.03, 1, 0.95]) # ปรับ layout ให้หัวข้อไม่ทับรูป\n",
            "/tmp/ipython-input-22-1726475923.py:80: UserWarning: Glyph 3614 (\\N{THAI CHARACTER PHO PHAN}) missing from font(s) DejaVu Sans.\n",
            "  plt.tight_layout(rect=[0, 0.03, 1, 0.95]) # ปรับ layout ให้หัวข้อไม่ทับรูป\n",
            "/tmp/ipython-input-22-1726475923.py:80: UserWarning: Glyph 3607 (\\N{THAI CHARACTER THO THAHAN}) missing from font(s) DejaVu Sans.\n",
            "  plt.tight_layout(rect=[0, 0.03, 1, 0.95]) # ปรับ layout ให้หัวข้อไม่ทับรูป\n",
            "/tmp/ipython-input-22-1726475923.py:80: UserWarning: Glyph 3637 (\\N{THAI CHARACTER SARA II}) missing from font(s) DejaVu Sans.\n",
            "  plt.tight_layout(rect=[0, 0.03, 1, 0.95]) # ปรับ layout ให้หัวข้อไม่ทับรูป\n",
            "/tmp/ipython-input-22-1726475923.py:80: UserWarning: Glyph 3635 (\\N{THAI CHARACTER SARA AM}) missing from font(s) DejaVu Sans.\n",
            "  plt.tight_layout(rect=[0, 0.03, 1, 0.95]) # ปรับ layout ให้หัวข้อไม่ทับรูป\n",
            "/tmp/ipython-input-22-1726475923.py:80: UserWarning: Glyph 3609 (\\N{THAI CHARACTER NO NU}) missing from font(s) DejaVu Sans.\n",
            "  plt.tight_layout(rect=[0, 0.03, 1, 0.95]) # ปรับ layout ให้หัวข้อไม่ทับรูป\n",
            "/tmp/ipython-input-22-1726475923.py:80: UserWarning: Glyph 3612 (\\N{THAI CHARACTER PHO PHUNG}) missing from font(s) DejaVu Sans.\n",
            "  plt.tight_layout(rect=[0, 0.03, 1, 0.95]) # ปรับ layout ให้หัวข้อไม่ทับรูป\n",
            "/tmp/ipython-input-22-1726475923.py:80: UserWarning: Glyph 3636 (\\N{THAI CHARACTER SARA I}) missing from font(s) DejaVu Sans.\n",
            "  plt.tight_layout(rect=[0, 0.03, 1, 0.95]) # ปรับ layout ให้หัวข้อไม่ทับรูป\n",
            "/tmp/ipython-input-22-1726475923.py:80: UserWarning: Glyph 3604 (\\N{THAI CHARACTER DO DEK}) missing from font(s) DejaVu Sans.\n",
            "  plt.tight_layout(rect=[0, 0.03, 1, 0.95]) # ปรับ layout ให้หัวข้อไม่ทับรูป\n",
            "/tmp/ipython-input-22-1726475923.py:80: UserWarning: Glyph 3621 (\\N{THAI CHARACTER LO LING}) missing from font(s) DejaVu Sans.\n",
            "  plt.tight_layout(rect=[0, 0.03, 1, 0.95]) # ปรับ layout ให้หัวข้อไม่ทับรูป\n",
            "/usr/local/lib/python3.11/dist-packages/IPython/core/pylabtools.py:151: UserWarning: Glyph 3605 (\\N{THAI CHARACTER TO TAO}) missing from font(s) DejaVu Sans.\n",
            "  fig.canvas.print_figure(bytes_io, **kw)\n",
            "/usr/local/lib/python3.11/dist-packages/IPython/core/pylabtools.py:151: UserWarning: Glyph 3633 (\\N{THAI CHARACTER MAI HAN-AKAT}) missing from font(s) DejaVu Sans.\n",
            "  fig.canvas.print_figure(bytes_io, **kw)\n",
            "/usr/local/lib/python3.11/dist-packages/IPython/core/pylabtools.py:151: UserWarning: Glyph 3623 (\\N{THAI CHARACTER WO WAEN}) missing from font(s) DejaVu Sans.\n",
            "  fig.canvas.print_figure(bytes_io, **kw)\n",
            "/usr/local/lib/python3.11/dist-packages/IPython/core/pylabtools.py:151: UserWarning: Glyph 3629 (\\N{THAI CHARACTER O ANG}) missing from font(s) DejaVu Sans.\n",
            "  fig.canvas.print_figure(bytes_io, **kw)\n",
            "/usr/local/lib/python3.11/dist-packages/IPython/core/pylabtools.py:151: UserWarning: Glyph 3618 (\\N{THAI CHARACTER YO YAK}) missing from font(s) DejaVu Sans.\n",
            "  fig.canvas.print_figure(bytes_io, **kw)\n",
            "/usr/local/lib/python3.11/dist-packages/IPython/core/pylabtools.py:151: UserWarning: Glyph 3656 (\\N{THAI CHARACTER MAI EK}) missing from font(s) DejaVu Sans.\n",
            "  fig.canvas.print_figure(bytes_io, **kw)\n",
            "/usr/local/lib/python3.11/dist-packages/IPython/core/pylabtools.py:151: UserWarning: Glyph 3634 (\\N{THAI CHARACTER SARA AA}) missing from font(s) DejaVu Sans.\n",
            "  fig.canvas.print_figure(bytes_io, **kw)\n",
            "/usr/local/lib/python3.11/dist-packages/IPython/core/pylabtools.py:151: UserWarning: Glyph 3591 (\\N{THAI CHARACTER NGO NGU}) missing from font(s) DejaVu Sans.\n",
            "  fig.canvas.print_figure(bytes_io, **kw)\n",
            "/usr/local/lib/python3.11/dist-packages/IPython/core/pylabtools.py:151: UserWarning: Glyph 3616 (\\N{THAI CHARACTER PHO SAMPHAO}) missing from font(s) DejaVu Sans.\n",
            "  fig.canvas.print_figure(bytes_io, **kw)\n",
            "/usr/local/lib/python3.11/dist-packages/IPython/core/pylabtools.py:151: UserWarning: Glyph 3614 (\\N{THAI CHARACTER PHO PHAN}) missing from font(s) DejaVu Sans.\n",
            "  fig.canvas.print_figure(bytes_io, **kw)\n",
            "/usr/local/lib/python3.11/dist-packages/IPython/core/pylabtools.py:151: UserWarning: Glyph 3607 (\\N{THAI CHARACTER THO THAHAN}) missing from font(s) DejaVu Sans.\n",
            "  fig.canvas.print_figure(bytes_io, **kw)\n",
            "/usr/local/lib/python3.11/dist-packages/IPython/core/pylabtools.py:151: UserWarning: Glyph 3637 (\\N{THAI CHARACTER SARA II}) missing from font(s) DejaVu Sans.\n",
            "  fig.canvas.print_figure(bytes_io, **kw)\n",
            "/usr/local/lib/python3.11/dist-packages/IPython/core/pylabtools.py:151: UserWarning: Glyph 3635 (\\N{THAI CHARACTER SARA AM}) missing from font(s) DejaVu Sans.\n",
            "  fig.canvas.print_figure(bytes_io, **kw)\n",
            "/usr/local/lib/python3.11/dist-packages/IPython/core/pylabtools.py:151: UserWarning: Glyph 3609 (\\N{THAI CHARACTER NO NU}) missing from font(s) DejaVu Sans.\n",
            "  fig.canvas.print_figure(bytes_io, **kw)\n",
            "/usr/local/lib/python3.11/dist-packages/IPython/core/pylabtools.py:151: UserWarning: Glyph 3612 (\\N{THAI CHARACTER PHO PHUNG}) missing from font(s) DejaVu Sans.\n",
            "  fig.canvas.print_figure(bytes_io, **kw)\n",
            "/usr/local/lib/python3.11/dist-packages/IPython/core/pylabtools.py:151: UserWarning: Glyph 3636 (\\N{THAI CHARACTER SARA I}) missing from font(s) DejaVu Sans.\n",
            "  fig.canvas.print_figure(bytes_io, **kw)\n",
            "/usr/local/lib/python3.11/dist-packages/IPython/core/pylabtools.py:151: UserWarning: Glyph 3604 (\\N{THAI CHARACTER DO DEK}) missing from font(s) DejaVu Sans.\n",
            "  fig.canvas.print_figure(bytes_io, **kw)\n",
            "/usr/local/lib/python3.11/dist-packages/IPython/core/pylabtools.py:151: UserWarning: Glyph 3621 (\\N{THAI CHARACTER LO LING}) missing from font(s) DejaVu Sans.\n",
            "  fig.canvas.print_figure(bytes_io, **kw)\n"
          ]
        },
        {
          "output_type": "display_data",
          "data": {
            "text/plain": [
              "<Figure size 1000x600 with 5 Axes>"
            ],
            "image/png": "[encoded data removed]"
          },
          "metadata": {}
        }
      ]
    },
    {
      "cell_type": "markdown",
      "source": [
        "## Part 3: 20 Newsgroups Dataset - Text Classification"
      ],
      "metadata": {
        "id": "u7-q5FmnboVJ"
      }
    },
    {
      "cell_type": "markdown",
      "source": [
        "### Load 20 Newsgroups Dataset\n",
        "\n",
        "The 20 newsgroups dataset comprises around 18000 newsgroups posts on 20 topics."
      ],
      "metadata": {
        "id": "6TDncAyyb6mJ"
      }
    },
    {
      "cell_type": "code",
      "source": [
        "# Load the training and testing data\n",
        "news_train = fetch_20newsgroups(subset='train', shuffle=True, random_state=42)\n",
        "news_test = fetch_20newsgroups(subset='test', shuffle=True, random_state=42)\n",
        "\n",
        "X_train_news, y_train_news = news_train.data, news_train.target\n",
        "X_test_news, y_test_news = news_test.data, news_test.target\n",
        "\n",
        "print(f\"Number of training documents: {len(X_train_news)}\")\n",
        "print(f\"Number of test documents: {len(X_test_news)}\")\n",
        "print(f\"Categories: {news_train.target_names}\")"
      ],
      "metadata": {
        "id": "E91xZl5NbnpA",
        "colab": {
          "base_uri": "https://localhost:8080/"
        },
        "outputId": "d973bd9e-b5cf-4576-f146-9b669697bc1b"
      },
      "execution_count": 23,
      "outputs": [
        {
          "output_type": "stream",
          "name": "stdout",
          "text": [
            "Number of training documents: 11314\n",
            "Number of test documents: 7532\n",
            "Categories: ['alt.atheism', 'comp.graphics', 'comp.os.ms-windows.misc', 'comp.sys.ibm.pc.hardware', 'comp.sys.mac.hardware', 'comp.windows.x', 'misc.forsale', 'rec.autos', 'rec.motorcycles', 'rec.sport.baseball', 'rec.sport.hockey', 'sci.crypt', 'sci.electronics', 'sci.med', 'sci.space', 'soc.religion.christian', 'talk.politics.guns', 'talk.politics.mideast', 'talk.politics.misc', 'talk.religion.misc']\n"
          ]
        }
      ]
    },
    {
      "cell_type": "markdown",
      "source": [
        "### Explore Sample Document"
      ],
      "metadata": {
        "id": "tVCq09V2cfGj"
      }
    },
    {
      "cell_type": "code",
      "source": [
        "# Print the first document and its class\n",
        "## Write your code here\n"
      ],
      "metadata": {
        "id": "G37RNZGebFZG"
      },
      "execution_count": 24,
      "outputs": []
    },
    {
      "cell_type": "markdown",
      "source": [
        "### Preprocessing: Text Vectorization Demonstration with `TfidfVectorizer`"
      ],
      "metadata": {
        "id": "1vXXUdp7chsX"
      }
    },
    {
      "cell_type": "markdown",
      "source": [
        "$$\n",
        "\\text{TF-IDF}(t, d, D) = \\text{TF}(t, d) \\times \\text{IDF}(t, D)\n",
        "$$\n",
        "\n",
        "Where:\n",
        "\n",
        "$$\n",
        "\\text{TF}(t, d) = \\frac{\\text{number of word }t\\text{ in } d}{\\text{number of words in } d} \\quad \\text{ and } \\quad\n",
        "\\text{IDF}(t, D) = \\log\\left(\\frac{\\text{total number of documents}}{\\text{number of documents that contain word }t}\\right).\n",
        "$$"
      ],
      "metadata": {
        "id": "rwaq1igbi-Hp"
      }
    },
    {
      "cell_type": "code",
      "source": [
        "# Create a small list of sentences for demonstration\n",
        "sample_sentences = [\n",
        "    \"This is the first document.\",\n",
        "    \"This document is the second document.\",\n",
        "    \"And this is the third one.\",\n",
        "    \"Is this the first document?\"\n",
        "]\n",
        "\n",
        "# Initialize TfidfVectorizer for demonstration\n",
        "vectorizer = TfidfVectorizer(stop_words='english')\n",
        "\n",
        "# Fit and transform the sample sentences\n",
        "# The output `sample_vec_output` will be a sparse matrix\n",
        "sample_vec_output_sparse = vectorizer.fit_transform(sample_sentences)\n",
        "\n",
        "# Convert to a dense NumPy array for easier viewing\n",
        "sample_vec_output_dense = sample_vec_output_sparse.toarray()\n",
        "\n",
        "print(\"\\nVocabulary (word to index mapping):\")\n",
        "print(vectorizer.vocabulary_)\n",
        "\n",
        "print(\"\\nFeature names (words):\")\n",
        "print(vectorizer.get_feature_names_out())\n",
        "\n",
        "print(\"\\nTF-IDF matrix for sample sentences (dense format):\")\n",
        "print(sample_vec_output_dense)"
      ],
      "metadata": {
        "id": "8AaVd2D9ckKA",
        "colab": {
          "base_uri": "https://localhost:8080/"
        },
        "outputId": "146358bf-c72b-40c1-ccdc-93540df39e5c"
      },
      "execution_count": 27,
      "outputs": [
        {
          "output_type": "stream",
          "name": "stdout",
          "text": [
            "\n",
            "Vocabulary (word to index mapping):\n",
            "{'document': 0, 'second': 1}\n",
            "\n",
            "Feature names (words):\n",
            "['document' 'second']\n",
            "\n",
            "TF-IDF matrix for sample sentences (dense format):\n",
            "[[1.         0.        ]\n",
            " [0.78722298 0.61666846]\n",
            " [0.         0.        ]\n",
            " [1.         0.        ]]\n"
          ]
        }
      ]
    },
    {
      "cell_type": "markdown",
      "source": [
        "### **Exercise 3: Apply TF-IDF Vectorization to Full Dataset**\n",
        "\n",
        "Now, apply `TfidfVectorizer` to the actual training and testing datasets for the 20 Newsgroups classification task.\n",
        "\n",
        "**Instructions:**\n",
        "\n",
        "1.  **Initialize `TfidfVectorizer`:**\n",
        "    *   Initialize `TfidfVectorizer`. Use `stop_words='english'` to remove common words.\n",
        "2.  **Fit and Transform Training Data:**\n",
        "    *   Call `fit_transform()` on `X_train_news` to learn the vocabulary and transform the training text into TF-IDF features. Store the result in `X_train_vec`.\n",
        "3.  **Transform Test Data:**\n",
        "    *   Call `transform()` on `X_test_news` using the *already fitted* vectorizer. Store the result in `X_test_vec`. **Crucially, do not call `fit_transform()` on the test data!** This would cause data leakage.\n",
        "4.  **Initialize Logistic Regression:**\n",
        "    *   Initialize `LogisticRegression(solver='saga')`. `saga` is a good solver when both number of samples and number of features are large.\n",
        "5.  **Train the Model:**\n",
        "    *   Fit the model on your `X_train_vec` and `y_train_news`.\n",
        "6.  **Make Predictions:**\n",
        "    *   Make predictions using `predict()` on the `X_test_vec`.\n",
        "7.  **Evaluate the Model:**\n",
        "    *   Print `classification_report` ([Documentation](https://scikit-learn.org/stable/modules/generated/sklearn.metrics.classification_report.html)). What are the accuracy, average precision, average recall, and average f1-score?"
      ],
      "metadata": {
        "id": "aCa_dcEDc-PQ"
      }
    },
    {
      "cell_type": "code",
      "source": [
        "# --- YOUR CODE FOR EXERCISE 3 STARTS HERE ---\n",
        "import numpy as np\n",
        "from sklearn.datasets import fetch_20newsgroups\n",
        "from sklearn.feature_extraction.text import TfidfVectorizer\n",
        "from sklearn.linear_model import LogisticRegression\n",
        "from sklearn.metrics import classification_report\n",
        "\n",
        "newsgroups_train = fetch_20newsgroups(subset='train', remove=('headers', 'footers', 'quotes'))\n",
        "newsgroups_test = fetch_20newsgroups(subset='test', remove=('headers', 'footers', 'quotes'))\n",
        "\n",
        "X_train_news = newsgroups_train.data\n",
        "y_train_news = newsgroups_train.target\n",
        "X_test_news = newsgroups_test.data\n",
        "y_test_news = newsgroups_test.target\n",
        "\n",
        "print(f\"จำนวนตัวอย่างในชุดฝึก: {len(X_train_news)}\")\n",
        "print(f\"จำนวนตัวอย่างในชุดทดสอบ: {len(X_test_news)}\")\n",
        "print(f\"ตัวอย่างข้อความแรกในชุดฝึก:\\n{X_train_news[0][:200]}...\\n\") # แสดงแค่ 200 ตัวอักษรแรก\n",
        "\n",
        "# 1. Initialize TfidfVectorizer\n",
        "print(\"\\n--- กำลังเตรียม TfidfVectorizer ---\")\n",
        "vectorizer = TfidfVectorizer(stop_words='english')\n",
        "print(\"TfidfVectorizer ถูกเตรียมเรียบร้อยแล้ว!\")\n",
        "\n",
        "# 2. Fit and Transform Training Data\n",
        "print(\"กำลัง Fit และ Transform ข้อมูลชุดฝึก...\")\n",
        "X_train_vec = vectorizer.fit_transform(X_train_news)\n",
        "print(f\"รูปร่างของ X_train_vec หลัง TF-IDF: {X_train_vec.shape}\") # (จำนวนตัวอย่าง, จำนวนคำศัพท์)\n",
        "\n",
        "# 3. Transform Test Data\n",
        "print(\"กำลัง Transform ข้อมูลชุดทดสอบ...\")\n",
        "X_test_vec = vectorizer.transform(X_test_news)\n",
        "print(f\"รูปร่างของ X_test_vec หลัง TF-IDF: {X_test_vec.shape}\") # ควรมีจำนวนคอลัมน์เท่ากับ X_train_vec\n",
        "\n",
        "# 4. Initialize Logistic Regression\n",
        "print(\"\\n--- กำลังเตรียมโมเดล Logistic Regression ---\")\n",
        "\n",
        "model = LogisticRegression(solver='saga', random_state=42, n_jobs=-1, max_iter=500)\n",
        "print(\"โมเดล Logistic Regression ถูกเตรียมเรียบร้อยแล้ว!\")\n",
        "\n",
        "# 5. Train the Model\n",
        "print(\"กำลังฝึกโมเดล Logistic Regression...\")\n",
        "model.fit(X_train_vec, y_train_news)\n",
        "print(\"โมเดล Logistic Regression ได้รับการฝึกเรียบร้อยแล้ว!\")\n",
        "\n",
        "# 6. Make Predictions\n",
        "print(\"\\n--- กำลังทำนายผลบนชุดทดสอบ ---\")\n",
        "y_pred_news = model.predict(X_test_vec)\n",
        "print(\"ทำนายผลเสร็จสิ้น!\")\n",
        "\n",
        "# 7. Evaluate the Model\n",
        "print(\"\\n--- รายงานการจำแนกประเภท (Classification Report) ---\")\n",
        "print(classification_report(y_test_news, y_pred_news, target_names=newsgroups_test.target_names))\n",
        "\n",
        "# สรุปค่าจาก classification_report\n",
        "report_dict = classification_report(y_test_news, y_pred_news, output_dict=True)\n",
        "\n",
        "print(f\"\\nAccuracy: {report_dict['accuracy']:.4f}\")\n",
        "# สำหรับ multi-class classification, weighted avg มักจะให้ภาพรวมที่ดีกว่า\n",
        "print(f\"Average Precision (weighted avg): {report_dict['weighted avg']['precision']:.4f}\")\n",
        "print(f\"Average Recall (weighted avg): {report_dict['weighted avg']['recall']:.4f}\")\n",
        "print(f\"Average F1-score (weighted avg): {report_dict['weighted avg']['f1-score']:.4f}\")\n",
        "\n"
      ],
      "metadata": {
        "id": "B6g7y5yXrczq",
        "colab": {
          "base_uri": "https://localhost:8080/"
        },
        "outputId": "492cf8e7-3855-4c88-f37e-00c3445d7b7c"
      },
      "execution_count": 28,
      "outputs": [
        {
          "output_type": "stream",
          "name": "stdout",
          "text": [
            "จำนวนตัวอย่างในชุดฝึก: 11314\n",
            "จำนวนตัวอย่างในชุดทดสอบ: 7532\n",
            "ตัวอย่างข้อความแรกในชุดฝึก:\n",
            "I was wondering if anyone out there could enlighten me on this car I saw\n",
            "the other day. It was a 2-door sports car, looked to be from the late 60s/\n",
            "early 70s. It was called a Bricklin. The doors were ...\n",
            "\n",
            "\n",
            "--- กำลังเตรียม TfidfVectorizer ---\n",
            "TfidfVectorizer ถูกเตรียมเรียบร้อยแล้ว!\n",
            "กำลัง Fit และ Transform ข้อมูลชุดฝึก...\n",
            "รูปร่างของ X_train_vec หลัง TF-IDF: (11314, 101322)\n",
            "กำลัง Transform ข้อมูลชุดทดสอบ...\n",
            "รูปร่างของ X_test_vec หลัง TF-IDF: (7532, 101322)\n",
            "\n",
            "--- กำลังเตรียมโมเดล Logistic Regression ---\n",
            "โมเดล Logistic Regression ถูกเตรียมเรียบร้อยแล้ว!\n",
            "กำลังฝึกโมเดล Logistic Regression...\n",
            "โมเดล Logistic Regression ได้รับการฝึกเรียบร้อยแล้ว!\n",
            "\n",
            "--- กำลังทำนายผลบนชุดทดสอบ ---\n",
            "ทำนายผลเสร็จสิ้น!\n",
            "\n",
            "--- รายงานการจำแนกประเภท (Classification Report) ---\n",
            "                          precision    recall  f1-score   support\n",
            "\n",
            "             alt.atheism       0.49      0.45      0.47       319\n",
            "           comp.graphics       0.63      0.71      0.67       389\n",
            " comp.os.ms-windows.misc       0.66      0.63      0.64       394\n",
            "comp.sys.ibm.pc.hardware       0.68      0.65      0.66       392\n",
            "   comp.sys.mac.hardware       0.75      0.69      0.72       385\n",
            "          comp.windows.x       0.83      0.72      0.77       395\n",
            "            misc.forsale       0.76      0.79      0.77       390\n",
            "               rec.autos       0.75      0.71      0.73       396\n",
            "         rec.motorcycles       0.48      0.81      0.61       398\n",
            "      rec.sport.baseball       0.81      0.82      0.82       397\n",
            "        rec.sport.hockey       0.90      0.86      0.88       399\n",
            "               sci.crypt       0.89      0.67      0.76       396\n",
            "         sci.electronics       0.56      0.61      0.59       393\n",
            "                 sci.med       0.76      0.79      0.78       396\n",
            "               sci.space       0.70      0.75      0.73       394\n",
            "  soc.religion.christian       0.64      0.79      0.71       398\n",
            "      talk.politics.guns       0.59      0.67      0.63       364\n",
            "   talk.politics.mideast       0.85      0.75      0.79       376\n",
            "      talk.politics.misc       0.59      0.45      0.51       310\n",
            "      talk.religion.misc       0.59      0.22      0.31       251\n",
            "\n",
            "                accuracy                           0.69      7532\n",
            "               macro avg       0.70      0.68      0.68      7532\n",
            "            weighted avg       0.70      0.69      0.69      7532\n",
            "\n",
            "\n",
            "Accuracy: 0.6909\n",
            "Average Precision (weighted avg): 0.7017\n",
            "Average Recall (weighted avg): 0.6909\n",
            "Average F1-score (weighted avg): 0.6887\n"
          ]
        }
      ]
    }
  ],
  "metadata": {
    "colab": {
      "provenance": [],
      "include_colab_link": true
    },
    "kernelspec": {
      "display_name": "Python 3 (ipykernel)",
      "language": "python",
      "name": "python3"
    },
    "language_info": {
      "codemirror_mode": {
        "name": "ipython",
        "version": 3
      },
      "file_extension": ".py",
      "mimetype": "text/x-python",
      "name": "python",
      "nbconvert_exporter": "python",
      "pygments_lexer": "ipython3",
      "version": "3.10.12"
    }
  },
  "nbformat": 4,
  "nbformat_minor": 0
}